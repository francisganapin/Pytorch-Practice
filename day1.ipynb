{
 "cells": [
  {
   "cell_type": "code",
   "execution_count": 1,
   "metadata": {},
   "outputs": [],
   "source": [
    "import torch"
   ]
  },
  {
   "cell_type": "code",
   "execution_count": 2,
   "metadata": {},
   "outputs": [],
   "source": [
    "x = torch.rand(5,3)"
   ]
  },
  {
   "cell_type": "code",
   "execution_count": 4,
   "metadata": {},
   "outputs": [
    {
     "name": "stdout",
     "output_type": "stream",
     "text": [
      "tensor([[0.4051, 0.1164, 0.5080],\n",
      "        [0.0897, 0.7294, 0.5367],\n",
      "        [0.2930, 0.8573, 0.9037],\n",
      "        [0.8390, 0.0872, 0.6761],\n",
      "        [0.4051, 0.1791, 0.6978]])\n"
     ]
    }
   ],
   "source": [
    "print(x)"
   ]
  },
  {
   "cell_type": "code",
   "execution_count": 5,
   "metadata": {},
   "outputs": [
    {
     "data": {
      "text/plain": [
       "False"
      ]
     },
     "execution_count": 5,
     "metadata": {},
     "output_type": "execute_result"
    }
   ],
   "source": [
    "# check gpu driver\n",
    "torch.cuda.is_available()"
   ]
  },
  {
   "cell_type": "code",
   "execution_count": null,
   "metadata": {},
   "outputs": [
    {
     "name": "stdout",
     "output_type": "stream",
     "text": [
      "True\n",
      "True\n"
     ]
    }
   ],
   "source": [
    "x = torch.randn(5, requires_grad=True)\n",
    "y = x.pow(2)\n",
    "print(x.equal(y.grad_fn._saved_self ))  # True\n",
    "print(x is y.grad_fn._saved_self)  # True"
   ]
  },
  {
   "cell_type": "code",
   "execution_count": 12,
   "metadata": {},
   "outputs": [
    {
     "name": "stdout",
     "output_type": "stream",
     "text": [
      "True\n",
      "False\n"
     ]
    }
   ],
   "source": [
    "x = torch.randn(5,requires_grad=True)\n",
    "y = x.exp()\n",
    "print(y.equal(y.grad_fn._saved_result))\n",
    "print(y is y.grad_fn._saved_result)"
   ]
  },
  {
   "cell_type": "code",
   "execution_count": 16,
   "metadata": {},
   "outputs": [],
   "source": [
    "def train_fn():\n",
    "    x = torch.ones(5,5, requires_grad=True)\n",
    "    y =(x + 3) * (x + 4) * 0.5\n",
    "    y.sum().backward()"
   ]
  },
  {
   "cell_type": "code",
   "execution_count": 22,
   "metadata": {},
   "outputs": [],
   "source": [
    "threads = []\n",
    "threading = []\n",
    "import threading"
   ]
  },
  {
   "cell_type": "code",
   "execution_count": null,
   "metadata": {},
   "outputs": [],
   "source": [
    "for _ in range(10): # this will loop 10 times\n",
    "    p = threading.Thread(target=train_fn,args=())\n",
    "    p.start()\n",
    "    threads.append(p)\n",
    "\n",
    "for p in threads:\n",
    "    p.join()"
   ]
  },
  {
   "cell_type": "code",
   "execution_count": 29,
   "metadata": {},
   "outputs": [
    {
     "name": "stdout",
     "output_type": "stream",
     "text": [
      "tensor([[[9.2914e+15, 1.8189e-42, 0.0000e+00],\n",
      "         [0.0000e+00, 0.0000e+00, 0.0000e+00],\n",
      "         [0.0000e+00, 0.0000e+00, 0.0000e+00],\n",
      "         [0.0000e+00, 0.0000e+00, 0.0000e+00],\n",
      "         [0.0000e+00, 0.0000e+00, 0.0000e+00],\n",
      "         [0.0000e+00, 0.0000e+00, 0.0000e+00],\n",
      "         [0.0000e+00, 0.0000e+00, 0.0000e+00]],\n",
      "\n",
      "        [[0.0000e+00, 0.0000e+00, 0.0000e+00],\n",
      "         [0.0000e+00, 0.0000e+00, 0.0000e+00],\n",
      "         [0.0000e+00, 0.0000e+00, 0.0000e+00],\n",
      "         [0.0000e+00, 0.0000e+00, 0.0000e+00],\n",
      "         [0.0000e+00, 0.0000e+00, 0.0000e+00],\n",
      "         [0.0000e+00, 0.0000e+00, 0.0000e+00],\n",
      "         [0.0000e+00, 0.0000e+00, 0.0000e+00]],\n",
      "\n",
      "        [[0.0000e+00, 0.0000e+00, 0.0000e+00],\n",
      "         [0.0000e+00, 0.0000e+00, 0.0000e+00],\n",
      "         [0.0000e+00, 0.0000e+00, 0.0000e+00],\n",
      "         [0.0000e+00, 0.0000e+00, 0.0000e+00],\n",
      "         [0.0000e+00, 0.0000e+00, 0.0000e+00],\n",
      "         [0.0000e+00, 0.0000e+00, 0.0000e+00],\n",
      "         [0.0000e+00, 0.0000e+00, 0.0000e+00]],\n",
      "\n",
      "        [[0.0000e+00, 0.0000e+00, 0.0000e+00],\n",
      "         [0.0000e+00, 0.0000e+00, 0.0000e+00],\n",
      "         [0.0000e+00, 0.0000e+00, 0.0000e+00],\n",
      "         [0.0000e+00, 0.0000e+00, 0.0000e+00],\n",
      "         [0.0000e+00, 0.0000e+00, 0.0000e+00],\n",
      "         [0.0000e+00, 0.0000e+00, 0.0000e+00],\n",
      "         [0.0000e+00, 0.0000e+00, 0.0000e+00]],\n",
      "\n",
      "        [[0.0000e+00, 0.0000e+00, 0.0000e+00],\n",
      "         [0.0000e+00, 0.0000e+00, 0.0000e+00],\n",
      "         [0.0000e+00, 0.0000e+00, 0.0000e+00],\n",
      "         [0.0000e+00, 0.0000e+00, 0.0000e+00],\n",
      "         [0.0000e+00, 0.0000e+00, 0.0000e+00],\n",
      "         [0.0000e+00, 0.0000e+00, 0.0000e+00],\n",
      "         [0.0000e+00, 0.0000e+00, 0.0000e+00]]]) tensor([[[9.2920e+15, 1.8189e-42, 0.0000e+00],\n",
      "         [0.0000e+00, 0.0000e+00, 0.0000e+00],\n",
      "         [0.0000e+00, 0.0000e+00, 0.0000e+00],\n",
      "         [0.0000e+00, 0.0000e+00, 0.0000e+00],\n",
      "         [0.0000e+00, 0.0000e+00, 0.0000e+00],\n",
      "         [0.0000e+00, 0.0000e+00, 0.0000e+00],\n",
      "         [0.0000e+00, 0.0000e+00, 0.0000e+00]],\n",
      "\n",
      "        [[0.0000e+00, 0.0000e+00, 0.0000e+00],\n",
      "         [0.0000e+00, 0.0000e+00, 0.0000e+00],\n",
      "         [0.0000e+00, 0.0000e+00, 0.0000e+00],\n",
      "         [0.0000e+00, 0.0000e+00, 0.0000e+00],\n",
      "         [0.0000e+00, 0.0000e+00, 0.0000e+00],\n",
      "         [0.0000e+00, 0.0000e+00, 0.0000e+00],\n",
      "         [0.0000e+00, 0.0000e+00, 0.0000e+00]],\n",
      "\n",
      "        [[0.0000e+00, 0.0000e+00, 0.0000e+00],\n",
      "         [0.0000e+00, 0.0000e+00, 0.0000e+00],\n",
      "         [0.0000e+00, 0.0000e+00, 0.0000e+00],\n",
      "         [0.0000e+00, 0.0000e+00, 0.0000e+00],\n",
      "         [0.0000e+00, 0.0000e+00, 0.0000e+00],\n",
      "         [0.0000e+00, 0.0000e+00, 0.0000e+00],\n",
      "         [0.0000e+00, 0.0000e+00, 0.0000e+00]],\n",
      "\n",
      "        [[0.0000e+00, 0.0000e+00, 0.0000e+00],\n",
      "         [0.0000e+00, 0.0000e+00, 0.0000e+00],\n",
      "         [0.0000e+00, 0.0000e+00, 0.0000e+00],\n",
      "         [0.0000e+00, 0.0000e+00, 0.0000e+00],\n",
      "         [0.0000e+00, 0.0000e+00, 0.0000e+00],\n",
      "         [0.0000e+00, 0.0000e+00, 0.0000e+00],\n",
      "         [0.0000e+00, 0.0000e+00, 0.0000e+00]],\n",
      "\n",
      "        [[0.0000e+00, 0.0000e+00, 0.0000e+00],\n",
      "         [0.0000e+00, 0.0000e+00, 0.0000e+00],\n",
      "         [0.0000e+00, 0.0000e+00, 0.0000e+00],\n",
      "         [0.0000e+00, 0.0000e+00, 0.0000e+00],\n",
      "         [0.0000e+00, 0.0000e+00, 0.0000e+00],\n",
      "         [0.0000e+00, 0.0000e+00, 0.0000e+00],\n",
      "         [0.0000e+00, 0.0000e+00, 0.0000e+00]]])\n"
     ]
    }
   ],
   "source": [
    "# same shape are always broadcastable\n",
    "x = torch.empty(5,7,3)\n",
    "y = torch.empty(5,7,3)\n",
    "print(x,y) # this will print pytorch shape"
   ]
  },
  {
   "cell_type": "code",
   "execution_count": 31,
   "metadata": {},
   "outputs": [
    {
     "name": "stdout",
     "output_type": "stream",
     "text": [
      "tensor([]) tensor([[9.0792e+15, 1.8189e-42],\n",
      "        [2.3694e-38, 9.2196e-41]])\n"
     ]
    }
   ],
   "source": [
    "xx = torch.empty((0,))\n",
    "yy = torch.empty(2,2)\n",
    "# x and y not broadcastable since x does not have 1 least dimension\n",
    "print(xx,yy)"
   ]
  },
  {
   "cell_type": "code",
   "execution_count": null,
   "metadata": {},
   "outputs": [
    {
     "name": "stdout",
     "output_type": "stream",
     "text": [
      "tensor([[[[9.5001e+15],\n",
      "          [1.8189e-42],\n",
      "          [0.0000e+00],\n",
      "          [0.0000e+00]],\n",
      "\n",
      "         [[0.0000e+00],\n",
      "          [0.0000e+00],\n",
      "          [0.0000e+00],\n",
      "          [0.0000e+00]],\n",
      "\n",
      "         [[0.0000e+00],\n",
      "          [0.0000e+00],\n",
      "          [0.0000e+00],\n",
      "          [0.0000e+00]]],\n",
      "\n",
      "\n",
      "        [[[0.0000e+00],\n",
      "          [0.0000e+00],\n",
      "          [0.0000e+00],\n",
      "          [0.0000e+00]],\n",
      "\n",
      "         [[0.0000e+00],\n",
      "          [0.0000e+00],\n",
      "          [0.0000e+00],\n",
      "          [0.0000e+00]],\n",
      "\n",
      "         [[0.0000e+00],\n",
      "          [0.0000e+00],\n",
      "          [0.0000e+00],\n",
      "          [0.0000e+00]]],\n",
      "\n",
      "\n",
      "        [[[0.0000e+00],\n",
      "          [0.0000e+00],\n",
      "          [0.0000e+00],\n",
      "          [0.0000e+00]],\n",
      "\n",
      "         [[0.0000e+00],\n",
      "          [0.0000e+00],\n",
      "          [0.0000e+00],\n",
      "          [0.0000e+00]],\n",
      "\n",
      "         [[0.0000e+00],\n",
      "          [0.0000e+00],\n",
      "          [0.0000e+00],\n",
      "          [0.0000e+00]]],\n",
      "\n",
      "\n",
      "        [[[0.0000e+00],\n",
      "          [0.0000e+00],\n",
      "          [0.0000e+00],\n",
      "          [0.0000e+00]],\n",
      "\n",
      "         [[0.0000e+00],\n",
      "          [0.0000e+00],\n",
      "          [0.0000e+00],\n",
      "          [0.0000e+00]],\n",
      "\n",
      "         [[0.0000e+00],\n",
      "          [0.0000e+00],\n",
      "          [0.0000e+00],\n",
      "          [0.0000e+00]]],\n",
      "\n",
      "\n",
      "        [[[0.0000e+00],\n",
      "          [0.0000e+00],\n",
      "          [0.0000e+00],\n",
      "          [0.0000e+00]],\n",
      "\n",
      "         [[0.0000e+00],\n",
      "          [0.0000e+00],\n",
      "          [0.0000e+00],\n",
      "          [0.0000e+00]],\n",
      "\n",
      "         [[0.0000e+00],\n",
      "          [0.0000e+00],\n",
      "          [0.0000e+00],\n",
      "          [0.0000e+00]]]]) tensor([[[9.0812e+15]],\n",
      "\n",
      "        [[1.8189e-42]],\n",
      "\n",
      "        [[0.0000e+00]]])\n"
     ]
    }
   ],
   "source": [
    "# can line up trailing dimensions\n",
    "xxx = torch.empty(5,3,4,1)\n",
    "yyy = torch.empty( 3,1,1)\n",
    "print(xxx,yyy)"
   ]
  },
  {
   "cell_type": "code",
   "execution_count": 33,
   "metadata": {},
   "outputs": [
    {
     "name": "stdout",
     "output_type": "stream",
     "text": [
      "tensor([[[[9.6408e+15],\n",
      "          [1.8189e-42],\n",
      "          [0.0000e+00],\n",
      "          [0.0000e+00]],\n",
      "\n",
      "         [[0.0000e+00],\n",
      "          [0.0000e+00],\n",
      "          [0.0000e+00],\n",
      "          [0.0000e+00]]],\n",
      "\n",
      "\n",
      "        [[[0.0000e+00],\n",
      "          [0.0000e+00],\n",
      "          [0.0000e+00],\n",
      "          [0.0000e+00]],\n",
      "\n",
      "         [[0.0000e+00],\n",
      "          [0.0000e+00],\n",
      "          [0.0000e+00],\n",
      "          [0.0000e+00]]],\n",
      "\n",
      "\n",
      "        [[[0.0000e+00],\n",
      "          [0.0000e+00],\n",
      "          [0.0000e+00],\n",
      "          [0.0000e+00]],\n",
      "\n",
      "         [[0.0000e+00],\n",
      "          [0.0000e+00],\n",
      "          [0.0000e+00],\n",
      "          [0.0000e+00]]],\n",
      "\n",
      "\n",
      "        [[[0.0000e+00],\n",
      "          [0.0000e+00],\n",
      "          [0.0000e+00],\n",
      "          [0.0000e+00]],\n",
      "\n",
      "         [[0.0000e+00],\n",
      "          [0.0000e+00],\n",
      "          [0.0000e+00],\n",
      "          [0.0000e+00]]],\n",
      "\n",
      "\n",
      "        [[[0.0000e+00],\n",
      "          [0.0000e+00],\n",
      "          [0.0000e+00],\n",
      "          [0.0000e+00]],\n",
      "\n",
      "         [[0.0000e+00],\n",
      "          [0.0000e+00],\n",
      "          [0.0000e+00],\n",
      "          [0.0000e+00]]]]) tensor([[[9.0792e+15]],\n",
      "\n",
      "        [[0.0000e+00]],\n",
      "\n",
      "        [[0.0000e+00]]])\n"
     ]
    }
   ],
   "source": [
    "xxxx = torch.empty(5,2,4,1)\n",
    "yyyy = torch.empty(  3,1,1)\n",
    "print(xxxx,yyyy)\n"
   ]
  },
  {
   "cell_type": "code",
   "execution_count": 37,
   "metadata": {},
   "outputs": [
    {
     "name": "stdout",
     "output_type": "stream",
     "text": [
      "torch.Size([5, 3, 4, 1])\n",
      "torch.Size([5, 3, 4, 1])\n"
     ]
    }
   ],
   "source": [
    "x1 = torch.empty(5,1,4,1)\n",
    "y1 = torch.empty(3,1,1)\n",
    "size1= (x1+y1).size()\n",
    "size2 = torch.Size([5,3,4,1])\n",
    "print(size1)\n",
    "print(size2)"
   ]
  },
  {
   "cell_type": "code",
   "execution_count": null,
   "metadata": {},
   "outputs": [],
   "source": []
  }
 ],
 "metadata": {
  "kernelspec": {
   "display_name": "base",
   "language": "python",
   "name": "python3"
  },
  "language_info": {
   "codemirror_mode": {
    "name": "ipython",
    "version": 3
   },
   "file_extension": ".py",
   "mimetype": "text/x-python",
   "name": "python",
   "nbconvert_exporter": "python",
   "pygments_lexer": "ipython3",
   "version": "3.11.7"
  }
 },
 "nbformat": 4,
 "nbformat_minor": 2
}
