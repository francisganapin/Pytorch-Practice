{
 "cells": [
  {
   "cell_type": "code",
   "execution_count": 8,
   "metadata": {},
   "outputs": [
    {
     "name": "stdout",
     "output_type": "stream",
     "text": [
      "False\n"
     ]
    }
   ],
   "source": [
    "x = -1\n",
    "\n",
    "if x > 20:\n",
    "    print(True)\n",
    "elif x == 25:\n",
    "    print('They Equal')\n",
    "else:\n",
    "    print(False)"
   ]
  },
  {
   "cell_type": "code",
   "execution_count": 9,
   "metadata": {},
   "outputs": [
    {
     "name": "stdout",
     "output_type": "stream",
     "text": [
      "Non-positive\n"
     ]
    }
   ],
   "source": [
    "status = 'Positive' if x > 0 else 'Non-positive'\n",
    "print(status)"
   ]
  },
  {
   "cell_type": "code",
   "execution_count": 11,
   "metadata": {},
   "outputs": [
    {
     "name": "stdout",
     "output_type": "stream",
     "text": [
      "The number is greater than 10\n",
      "But its 20 or more\n"
     ]
    }
   ],
   "source": [
    "number = 21\n",
    "\n",
    "if number > 10:\n",
    "    print('The number is greater than 10')\n",
    "\n",
    "    if number < 20:\n",
    "        print('And it is also less than 20')\n",
    "    else:\n",
    "        print('But its 20 or more')\n",
    "else:\n",
    "    print('The number is 10 or less')"
   ]
  },
  {
   "cell_type": "code",
   "execution_count": null,
   "metadata": {},
   "outputs": [
    {
     "name": "stdout",
     "output_type": "stream",
     "text": [
      "password should contain at least one number\n"
     ]
    }
   ],
   "source": [
    "password = 'pass12345'\n",
    "\n",
    "if len(password) >= 8:\n",
    "    if any(char.isdigit() for char in password):\n",
    "        print('Password is Strong')\n",
    "    else:\n",
    "        print('password should contain at least one number')\n",
    "else:\n",
    "    print('password is too shourt')"
   ]
  },
  {
   "cell_type": "code",
   "execution_count": 14,
   "metadata": {},
   "outputs": [
    {
     "name": "stdout",
     "output_type": "stream",
     "text": [
      "the weather is warm\n"
     ]
    }
   ],
   "source": [
    "temp = 75\n",
    "\n",
    "if temp > 50:\n",
    "    if temp > 80:\n",
    "        print('Its really hot')\n",
    "    else:\n",
    "        print('the weather is warm')\n",
    "\n",
    "else:\n",
    "    if temp < 32:\n",
    "        print('Its freezing')\n",
    "\n",
    "    else:\n",
    "        print('its cool')"
   ]
  },
  {
   "cell_type": "markdown",
   "metadata": {},
   "source": [
    "Exercise 1: Number Classification\n",
    "Goal: Create a program that accepts a number and prints a message based on its sign (positive, negative, or zero) and its parity (even/odd).\n",
    "\n",
    "Requirements:\n",
    "\n",
    "If the number is positive:\n",
    "\n",
    "Check if it is even – print: \"<number> is a positive even number.\"\n",
    "\n",
    "Otherwise, print: \"<number> is a positive odd number.\"\n",
    "\n",
    "If the number is negative:\n",
    "\n",
    "Check if it is even – print: \"<number> is a negative even number.\"\n",
    "\n",
    "Otherwise, print: \"<number> is a negative odd number.\"\n",
    "\n",
    "If the number is zero, simply print: \"The number is zero.\""
   ]
  },
  {
   "cell_type": "code",
   "execution_count": 15,
   "metadata": {},
   "outputs": [
    {
     "name": "stdout",
     "output_type": "stream",
     "text": [
      "21 is a odd number \n",
      "it is possitive\n"
     ]
    }
   ],
   "source": [
    "num  = 21\n",
    "\n",
    "if num > 0:\n",
    "    if num % 2 == 0:\n",
    "        print(f'{num} is a even number')\n",
    "    else:\n",
    "        print(f'{num} is a odd number ')\n",
    "    print(f'it is possitive')\n",
    "else:\n",
    "    print('is a negative odd number')"
   ]
  },
  {
   "cell_type": "markdown",
   "metadata": {},
   "source": [
    "Your approach is on the right track! The nested if structure is working as you intend for positive numbers. When num is greater than 0, it checks if it's even or odd and then prints that result, followed by a message that it’s positive. For the value 21, your code will output:\n",
    "\n",
    "\"21 is a odd number \"\n",
    "\n",
    "\"it is possitive\"\n",
    "\n",
    "\n",
    "There are just a few points to consider and a few improvements you might want to make:\n",
    "\n",
    "Spelling and Message Clarity:\n",
    "\n",
    "The word \"possitive\" should be spelled \"positive.\"\n",
    "\n",
    "In the else block, you currently print \"is a negative odd number\". This could be misleading because negative numbers can be either even or odd.\n",
    "\n",
    "Handling Zero:\n",
    "\n",
    "Your code currently treats numbers that are not greater than 0 as negative. Note that 0 is neither positive nor negative, so you might want to add a condition to handle that separately.\n",
    "\n",
    "Expanded Negative Check (Optional):\n",
    "\n",
    "If you want to check whether a negative number is even or odd as well, you can nest another if in the negative branch, just like you did for positive numbers."
   ]
  },
  {
   "cell_type": "code",
   "execution_count": 17,
   "metadata": {},
   "outputs": [
    {
     "name": "stdout",
     "output_type": "stream",
     "text": [
      "21 is an odd positive number\n"
     ]
    }
   ],
   "source": [
    "num = 21\n",
    "\n",
    "if num > 0:\n",
    "    if num % 2 == 0:\n",
    "        print(f'{num} is an even positive number')\n",
    "    else:\n",
    "        print(f'{num} is an odd positive number')\n",
    "elif num < 0:\n",
    "    if num % 2 == 0:\n",
    "        print(f'{num} is an even negative number')\n",
    "    else:\n",
    "        print(f'{num} is  an odd negative number')\n",
    "else:\n",
    "    print('The number is zero')"
   ]
  }
 ],
 "metadata": {
  "kernelspec": {
   "display_name": "Python 3",
   "language": "python",
   "name": "python3"
  },
  "language_info": {
   "codemirror_mode": {
    "name": "ipython",
    "version": 3
   },
   "file_extension": ".py",
   "mimetype": "text/x-python",
   "name": "python",
   "nbconvert_exporter": "python",
   "pygments_lexer": "ipython3",
   "version": "3.12.3"
  }
 },
 "nbformat": 4,
 "nbformat_minor": 2
}
