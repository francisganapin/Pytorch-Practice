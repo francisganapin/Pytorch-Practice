{
 "cells": [
  {
   "cell_type": "code",
   "execution_count": 100,
   "metadata": {},
   "outputs": [],
   "source": [
    "import numpy as np"
   ]
  },
  {
   "cell_type": "code",
   "execution_count": 101,
   "metadata": {},
   "outputs": [],
   "source": [
    "a = np.array([1.0,2.0,3.0])"
   ]
  },
  {
   "cell_type": "code",
   "execution_count": 102,
   "metadata": {},
   "outputs": [],
   "source": [
    "b = np.array([2.0,2.0,2.0])"
   ]
  },
  {
   "cell_type": "code",
   "execution_count": 103,
   "metadata": {},
   "outputs": [
    {
     "data": {
      "text/plain": [
       "array([2., 4., 6.])"
      ]
     },
     "execution_count": 103,
     "metadata": {},
     "output_type": "execute_result"
    }
   ],
   "source": [
    "a * b"
   ]
  },
  {
   "cell_type": "code",
   "execution_count": 104,
   "metadata": {},
   "outputs": [
    {
     "data": {
      "text/plain": [
       "array([2., 4., 6.])"
      ]
     },
     "execution_count": 104,
     "metadata": {},
     "output_type": "execute_result"
    }
   ],
   "source": [
    "a = np.array([1.0,2.0,3.0])\n",
    "b = 2.0\n",
    "a * b"
   ]
  },
  {
   "cell_type": "code",
   "execution_count": 105,
   "metadata": {},
   "outputs": [],
   "source": [
    "a = np.array([0.0,10.0,20.0,30.0])\n",
    "b = np.array([1.0,2.0,3.0])"
   ]
  },
  {
   "cell_type": "code",
   "execution_count": 106,
   "metadata": {},
   "outputs": [
    {
     "data": {
      "text/plain": [
       "array([[ 1.,  2.,  3.],\n",
       "       [11., 12., 13.],\n",
       "       [21., 22., 23.],\n",
       "       [31., 32., 33.]])"
      ]
     },
     "execution_count": 106,
     "metadata": {},
     "output_type": "execute_result"
    }
   ],
   "source": [
    "a[:,np.newaxis] + b"
   ]
  },
  {
   "cell_type": "code",
   "execution_count": 107,
   "metadata": {},
   "outputs": [],
   "source": [
    "from numpy import array,argmin, sqrt,sum\n"
   ]
  },
  {
   "cell_type": "code",
   "execution_count": 108,
   "metadata": {},
   "outputs": [],
   "source": [
    "observation = array([111.0,188.0])"
   ]
  },
  {
   "cell_type": "code",
   "execution_count": 109,
   "metadata": {},
   "outputs": [],
   "source": [
    "codes_d = np.array([\n",
    "    [102.0, 203.0],\n",
    "    [132.0, 192.0],\n",
    "    [45.0, 155.0],\n",
    "    [57.0, 173.0]  # Removed the extra element\n",
    "])"
   ]
  },
  {
   "cell_type": "code",
   "execution_count": 110,
   "metadata": {},
   "outputs": [],
   "source": [
    "diff = codes_d - observation"
   ]
  },
  {
   "cell_type": "code",
   "execution_count": 111,
   "metadata": {},
   "outputs": [],
   "source": [
    "dist = sqrt(sum(diff**2,axis=-1))"
   ]
  },
  {
   "cell_type": "code",
   "execution_count": 112,
   "metadata": {},
   "outputs": [
    {
     "data": {
      "text/plain": [
       "np.int64(0)"
      ]
     },
     "execution_count": 112,
     "metadata": {},
     "output_type": "execute_result"
    }
   ],
   "source": [
    "argmin(dist)"
   ]
  },
  {
   "cell_type": "code",
   "execution_count": 113,
   "metadata": {},
   "outputs": [
    {
     "name": "stdout",
     "output_type": "stream",
     "text": [
      "[17.49285568 21.37755833 73.79024326 56.04462508]\n"
     ]
    }
   ],
   "source": [
    "\n",
    "# Define codes_d and observation\n",
    "codes_d = np.array([\n",
    "    [102.0, 203.0],\n",
    "    [132.0, 192.0],\n",
    "    [45.0, 155.0],\n",
    "    [57.0, 173.0]\n",
    "])\n",
    "observation = np.array([111.0, 188.0])\n",
    "\n",
    "# Calculate difference\n",
    "diff = codes_d - observation\n",
    "\n",
    "# Compute Euclidean distance\n",
    "dist = np.sqrt(np.sum(diff**2, axis=-1))\n",
    "\n",
    "print(dist)"
   ]
  },
  {
   "cell_type": "code",
   "execution_count": 114,
   "metadata": {},
   "outputs": [],
   "source": [
    "import numpy as np"
   ]
  },
  {
   "cell_type": "code",
   "execution_count": 115,
   "metadata": {},
   "outputs": [],
   "source": [
    "x = np.arange(10)"
   ]
  },
  {
   "cell_type": "code",
   "execution_count": 116,
   "metadata": {},
   "outputs": [
    {
     "data": {
      "text/plain": [
       "array([0, 1, 2, 3, 4, 5, 6, 7, 8, 9])"
      ]
     },
     "execution_count": 116,
     "metadata": {},
     "output_type": "execute_result"
    }
   ],
   "source": [
    "x"
   ]
  },
  {
   "cell_type": "code",
   "execution_count": 117,
   "metadata": {},
   "outputs": [],
   "source": [
    "y = x[1:3]"
   ]
  },
  {
   "cell_type": "code",
   "execution_count": 118,
   "metadata": {},
   "outputs": [
    {
     "data": {
      "text/plain": [
       "array([1, 2])"
      ]
     },
     "execution_count": 118,
     "metadata": {},
     "output_type": "execute_result"
    }
   ],
   "source": [
    "y"
   ]
  },
  {
   "cell_type": "code",
   "execution_count": 119,
   "metadata": {},
   "outputs": [],
   "source": [
    "x[1:3] = [10,11]"
   ]
  },
  {
   "cell_type": "code",
   "execution_count": 120,
   "metadata": {},
   "outputs": [
    {
     "data": {
      "text/plain": [
       "array([ 0, 10, 11,  3,  4,  5,  6,  7,  8,  9])"
      ]
     },
     "execution_count": 120,
     "metadata": {},
     "output_type": "execute_result"
    }
   ],
   "source": [
    "x"
   ]
  },
  {
   "cell_type": "code",
   "execution_count": 121,
   "metadata": {},
   "outputs": [
    {
     "data": {
      "text/plain": [
       "array(['hello', 'world'], dtype='<U5')"
      ]
     },
     "execution_count": 121,
     "metadata": {},
     "output_type": "execute_result"
    }
   ],
   "source": [
    "np.array(['hello','world'])"
   ]
  },
  {
   "cell_type": "code",
   "execution_count": 122,
   "metadata": {},
   "outputs": [
    {
     "data": {
      "text/plain": [
       "array([b'hello', b'world'], dtype='|S5')"
      ]
     },
     "execution_count": 122,
     "metadata": {},
     "output_type": "execute_result"
    }
   ],
   "source": [
    "np.array([b'hello',b'world'])"
   ]
  },
  {
   "cell_type": "code",
   "execution_count": 123,
   "metadata": {},
   "outputs": [],
   "source": [
    "from numpy.dtypes import StringDType\n",
    "import numpy as np"
   ]
  },
  {
   "cell_type": "code",
   "execution_count": 124,
   "metadata": {},
   "outputs": [
    {
     "data": {
      "text/plain": [
       "array(['this is a longer string', 'short string'], dtype=StringDType())"
      ]
     },
     "execution_count": 124,
     "metadata": {},
     "output_type": "execute_result"
    }
   ],
   "source": [
    "data = ['this is a longer string','short string']\n",
    "arr = np.array(data,dtype=StringDType())\n",
    "arr"
   ]
  },
  {
   "cell_type": "code",
   "execution_count": 125,
   "metadata": {},
   "outputs": [],
   "source": [
    "dt = StringDType(na_object=None)"
   ]
  },
  {
   "cell_type": "code",
   "execution_count": 126,
   "metadata": {},
   "outputs": [],
   "source": [
    "arr = np.array(['this array',None,'as an entry'])"
   ]
  },
  {
   "cell_type": "code",
   "execution_count": 127,
   "metadata": {},
   "outputs": [
    {
     "ename": "TypeError",
     "evalue": "'<' not supported between instances of 'NoneType' and 'str'",
     "output_type": "error",
     "traceback": [
      "\u001b[1;31m---------------------------------------------------------------------------\u001b[0m",
      "\u001b[1;31mTypeError\u001b[0m                                 Traceback (most recent call last)",
      "Cell \u001b[1;32mIn[127], line 1\u001b[0m\n\u001b[1;32m----> 1\u001b[0m np\u001b[38;5;241m.\u001b[39msort(arr)\n",
      "File \u001b[1;32mc:\\Users\\francis\\anaconda3\\Lib\\site-packages\\numpy\\_core\\fromnumeric.py:1122\u001b[0m, in \u001b[0;36msort\u001b[1;34m(a, axis, kind, order, stable)\u001b[0m\n\u001b[0;32m   1120\u001b[0m \u001b[38;5;28;01melse\u001b[39;00m:\n\u001b[0;32m   1121\u001b[0m     a \u001b[38;5;241m=\u001b[39m asanyarray(a)\u001b[38;5;241m.\u001b[39mcopy(order\u001b[38;5;241m=\u001b[39m\u001b[38;5;124m\"\u001b[39m\u001b[38;5;124mK\u001b[39m\u001b[38;5;124m\"\u001b[39m)\n\u001b[1;32m-> 1122\u001b[0m a\u001b[38;5;241m.\u001b[39msort(axis\u001b[38;5;241m=\u001b[39maxis, kind\u001b[38;5;241m=\u001b[39mkind, order\u001b[38;5;241m=\u001b[39morder, stable\u001b[38;5;241m=\u001b[39mstable)\n\u001b[0;32m   1123\u001b[0m \u001b[38;5;28;01mreturn\u001b[39;00m a\n",
      "\u001b[1;31mTypeError\u001b[0m: '<' not supported between instances of 'NoneType' and 'str'"
     ]
    }
   ],
   "source": [
    "np.sort(arr)"
   ]
  },
  {
   "cell_type": "code",
   "execution_count": null,
   "metadata": {},
   "outputs": [],
   "source": [
    "arr = np.array(['hello','world'],dtype=StringDType())"
   ]
  },
  {
   "cell_type": "code",
   "execution_count": null,
   "metadata": {},
   "outputs": [
    {
     "ename": "TypeError",
     "evalue": "cannot cast dtype StringDType() to <class 'numpy.dtypes.StrDType'>.",
     "output_type": "error",
     "traceback": [
      "\u001b[1;31m---------------------------------------------------------------------------\u001b[0m",
      "\u001b[1;31mTypeError\u001b[0m                                 Traceback (most recent call last)",
      "\u001b[1;31mTypeError\u001b[0m: Casting from StringDType to a fixed-width dtype with an unspecified size is not currently supported, specify an explicit size for the output dtype instead.",
      "\nThe above exception was the direct cause of the following exception:\n",
      "\u001b[1;31mTypeError\u001b[0m                                 Traceback (most recent call last)",
      "Cell \u001b[1;32mIn[9], line 1\u001b[0m\n\u001b[1;32m----> 1\u001b[0m arr\u001b[38;5;241m.\u001b[39mastype(np\u001b[38;5;241m.\u001b[39mstr_)\n",
      "\u001b[1;31mTypeError\u001b[0m: cannot cast dtype StringDType() to <class 'numpy.dtypes.StrDType'>."
     ]
    }
   ],
   "source": [
    "arr.astype(np.str_)"
   ]
  },
  {
   "cell_type": "code",
   "execution_count": null,
   "metadata": {},
   "outputs": [
    {
     "data": {
      "text/plain": [
       "array(['hello', 'world'], dtype='<U5')"
      ]
     },
     "execution_count": 10,
     "metadata": {},
     "output_type": "execute_result"
    }
   ],
   "source": [
    "arr.astype('U5')"
   ]
  },
  {
   "cell_type": "code",
   "execution_count": null,
   "metadata": {},
   "outputs": [],
   "source": [
    "arr = np.array([\"hello\", \"world\"], dtype=StringDType())"
   ]
  },
  {
   "cell_type": "code",
   "execution_count": null,
   "metadata": {},
   "outputs": [],
   "source": [
    "x = np.array([('Rex', 9, 104.0), ('Fido', 3, 27.0)],\n",
    "             dtype=[('name', 'U10'), ('age', 'i4'), ('weight', 'f4')])"
   ]
  },
  {
   "cell_type": "code",
   "execution_count": null,
   "metadata": {},
   "outputs": [
    {
     "data": {
      "text/plain": [
       "array([('Rex', 9, 104.), ('Fido', 3,  27.)],\n",
       "      dtype=[('name', '<U10'), ('age', '<i4'), ('weight', '<f4')])"
      ]
     },
     "execution_count": 31,
     "metadata": {},
     "output_type": "execute_result"
    }
   ],
   "source": [
    "x"
   ]
  },
  {
   "cell_type": "code",
   "execution_count": null,
   "metadata": {},
   "outputs": [
    {
     "data": {
      "text/plain": [
       "np.void(('Rex', 9, 104.0), dtype=[('name', '<U10'), ('age', '<i4'), ('weight', '<f4')])"
      ]
     },
     "execution_count": 32,
     "metadata": {},
     "output_type": "execute_result"
    }
   ],
   "source": [
    "x[0]"
   ]
  },
  {
   "cell_type": "code",
   "execution_count": null,
   "metadata": {},
   "outputs": [
    {
     "data": {
      "text/plain": [
       "array([104.,  27.], dtype=float32)"
      ]
     },
     "execution_count": 33,
     "metadata": {},
     "output_type": "execute_result"
    }
   ],
   "source": [
    "x['weight']"
   ]
  },
  {
   "cell_type": "code",
   "execution_count": null,
   "metadata": {},
   "outputs": [
    {
     "data": {
      "text/plain": [
       "dtype([('x', '<f4'), ('y', '<f4'), ('z', '<f4', (2, 2))])"
      ]
     },
     "execution_count": 34,
     "metadata": {},
     "output_type": "execute_result"
    }
   ],
   "source": [
    "np.dtype([\n",
    "        ('x','f'),\n",
    "        ('y',np.float32),\n",
    "        ('z','f',(2,2))\n",
    "        ]\n",
    "        )"
   ]
  },
  {
   "cell_type": "code",
   "execution_count": null,
   "metadata": {},
   "outputs": [],
   "source": [
    "# manipulating and display structured datatypes\n",
    "\n",
    "d = np.dtype([ \n",
    "    ('x','i8'),\n",
    "    ('y','f4')\n",
    "                ])"
   ]
  },
  {
   "cell_type": "code",
   "execution_count": null,
   "metadata": {},
   "outputs": [
    {
     "data": {
      "text/plain": [
       "('x', 'y')"
      ]
     },
     "execution_count": 36,
     "metadata": {},
     "output_type": "execute_result"
    }
   ],
   "source": [
    "d.names"
   ]
  },
  {
   "cell_type": "code",
   "execution_count": null,
   "metadata": {},
   "outputs": [
    {
     "data": {
      "text/plain": [
       "dtype('int64')"
      ]
     },
     "execution_count": 37,
     "metadata": {},
     "output_type": "execute_result"
    }
   ],
   "source": [
    "d['x']"
   ]
  },
  {
   "cell_type": "code",
   "execution_count": null,
   "metadata": {},
   "outputs": [
    {
     "data": {
      "text/plain": [
       "mappingproxy({'x': (dtype('int64'), 0), 'y': (dtype('float32'), 8)})"
      ]
     },
     "execution_count": 38,
     "metadata": {},
     "output_type": "execute_result"
    }
   ],
   "source": [
    "d.fields"
   ]
  },
  {
   "cell_type": "code",
   "execution_count": null,
   "metadata": {},
   "outputs": [],
   "source": [
    "def print_offset(d):\n",
    "    print('offsets:',[d.fields[name][1]for name in d.names])\n",
    "    print('itemsize:',d.itemsize)"
   ]
  },
  {
   "cell_type": "code",
   "execution_count": null,
   "metadata": {},
   "outputs": [
    {
     "name": "stdout",
     "output_type": "stream",
     "text": [
      "offsets: [0, 1, 2, 6, 7, 15]\n",
      "itemsize: 17\n"
     ]
    }
   ],
   "source": [
    "print_offset(np.dtype('u1, u1, i4, u1, i8, u2'))"
   ]
  },
  {
   "cell_type": "code",
   "execution_count": null,
   "metadata": {},
   "outputs": [
    {
     "name": "stdout",
     "output_type": "stream",
     "text": [
      "[2 3 4 5]\n"
     ]
    }
   ],
   "source": [
    "import numpy as np\n",
    "\n",
    "arr = np.array([1,2,3,4,5,6,7])\n",
    "\n",
    "print(arr[1:5])"
   ]
  },
  {
   "cell_type": "code",
   "execution_count": null,
   "metadata": {},
   "outputs": [
    {
     "name": "stdout",
     "output_type": "stream",
     "text": [
      "[92 90 88 95 89 91]\n",
      "90.83333333333333\n"
     ]
    }
   ],
   "source": [
    "# print only greater than 85\n",
    "\n",
    "scores = np.array([85,92,78,90,88,76,95,89,84,91])\n",
    "\n",
    "\n",
    "x = scores[scores>85]\n",
    "print(x)\n",
    "x_average = x.mean()\n",
    "print(x_average)"
   ]
  },
  {
   "cell_type": "code",
   "execution_count": null,
   "metadata": {},
   "outputs": [
    {
     "name": "stdout",
     "output_type": "stream",
     "text": [
      "[np.float64(86.0), np.float64(89.6), np.float64(84.2), np.float64(96.8), np.float64(82.4), np.float64(91.4), np.float64(87.80000000000001)]\n",
      "this one is the max 96.8\n",
      "this one is the min 82.4\n"
     ]
    }
   ],
   "source": [
    "# temps convert to celcius to farh and print list and max and min\n",
    "\n",
    "temps = np.array([30,32,29,36,28,33,31])\n",
    "\n",
    "temp_list_container = []\n",
    "\n",
    "for each in temps:\n",
    "    try:\n",
    "        f = each * (9/5) + 32\n",
    "        temp_list_container.append(f)\n",
    "    except Exception as e:\n",
    "        print(\"An exception occurred  {e}\")\n",
    "    \n",
    "\n",
    "print(temp_list_container)\n",
    "print(f'this one is the max {max(temp_list_container)}')\n",
    "print(f'this one is the min {min(temp_list_container)}')"
   ]
  },
  {
   "cell_type": "code",
   "execution_count": 155,
   "metadata": {},
   "outputs": [
    {
     "name": "stdout",
     "output_type": "stream",
     "text": [
      "[165.  220.   55.  550.  132.   99.  385.   82.5]\n",
      "More than 200: [220. 550. 385.]\n"
     ]
    }
   ],
   "source": [
    "import numpy as np\n",
    "\n",
    "price = np.array([150, 200, 50, 500, 120, 90, 350, 75])\n",
    "\n",
    "price_container = []\n",
    "\n",
    "# Correct price increase\n",
    "for x in price:\n",
    "    try:\n",
    "        f = x * 1.10  # Increase price by 10%\n",
    "        price_container.append(f)\n",
    "    except BaseException as e:\n",
    "        print(f'An exception occurred: {e}')\n",
    "\n",
    "# Convert list to NumPy array before adding\n",
    "price_container = np.array(price_container)\n",
    "\n",
    "added_price = price_container\n",
    "\n",
    "# Get values greater than 200\n",
    "exclude_data = added_price[added_price > 200]\n",
    "\n",
    "print(added_price)\n",
    "print(f'More than 200: {exclude_data}')\n"
   ]
  },
  {
   "cell_type": "code",
   "execution_count": 163,
   "metadata": {},
   "outputs": [
    {
     "name": "stdout",
     "output_type": "stream",
     "text": [
      "[50, 60, 75, 85]\n",
      "47.5\n"
     ]
    }
   ],
   "source": [
    "# find value greater than the mean\n",
    "\n",
    "\n",
    "data = np.array([10,25,35,40,50,60,75,85]) # array\n",
    "\n",
    "\n",
    "mean_data = data.mean() # get the array mean\n",
    "\n",
    "greater_than_mean = [k for k in data if k > mean_data] #get the greater than mean\n",
    "\n",
    "converted_list = [int(x) for x in greater_than_mean] # convert our numpy as int\n",
    "\n",
    "print(converted_list)\n",
    "print(mean_data)\n",
    "\n"
   ]
  },
  {
   "cell_type": "code",
   "execution_count": null,
   "metadata": {},
   "outputs": [],
   "source": [
    "numbers = np.array([12, 45, 23, 78, 34, 55, 90, 27, 64, 81])\n",
    "\n",
    "numbers = [int(x) for x in numbers]\n",
    "# Count even numbers\n",
    "even_count = [ k for k in numbers  if k   % 2  == 0]\n",
    "print(even_count)\n",
    "# Count odd numbers\n",
    "odd_count = [ k for k in numbers  if k   % 2 != 0 ]\n",
    "\n",
    "print(odd_count)\n"
   ]
  },
  {
   "cell_type": "code",
   "execution_count": 252,
   "metadata": {},
   "outputs": [
    {
     "name": "stdout",
     "output_type": "stream",
     "text": [
      "15\n",
      "[ 0 15 30 45 60 75]\n",
      "75\n",
      "[0.  0.2 0.4 0.6 0.8 1. ]\n"
     ]
    }
   ],
   "source": [
    "values = np.array([15,30,45,60,75,90])\n",
    "\n",
    "value_container = []\n",
    "print(values[0])\n",
    "\n",
    "for x in values:\n",
    "   x_list = int(x)\n",
    "   value_container.append(x_list)\n",
    "\n",
    "set1 =  np.subtract(np.array(value_container),np.array(min(value_container)))\n",
    "set2 = np.array(max(value_container) - np.array(min(value_container)))\n",
    "\n",
    "print(set1)\n",
    "print(set2)\n",
    "\n",
    "set3 = set1 / set2\n",
    "print(set3)\n"
   ]
  },
  {
   "cell_type": "code",
   "execution_count": 254,
   "metadata": {},
   "outputs": [
    {
     "name": "stdout",
     "output_type": "stream",
     "text": [
      "15\n",
      "Normalized values: [0.  0.2 0.4 0.6 0.8 1. ]\n"
     ]
    }
   ],
   "source": [
    "import numpy as np\n",
    "\n",
    "values = np.array([15, 30, 45, 60, 75, 90])\n",
    "\n",
    "value_container = []\n",
    "print(values[0])\n",
    "\n",
    "for x in values:\n",
    "    x_list = int(x)\n",
    "    value_container.append(x_list)\n",
    "\n",
    "# Normalize the values using the correct formula\n",
    "normalized = (np.array(value_container) - min(value_container)) / (max(value_container) - min(value_container))\n",
    "print(\"Normalized values:\", normalized)\n",
    "\n"
   ]
  },
  {
   "cell_type": "code",
   "execution_count": 256,
   "metadata": {},
   "outputs": [
    {
     "name": "stdout",
     "output_type": "stream",
     "text": [
      "[30 25 20 15 10  5]\n"
     ]
    }
   ],
   "source": [
    "#reverse the array \n",
    "\n",
    "arr = np.array([5,10,15,20,25,30])\n",
    "\n",
    "reversed_arr = arr[::-1]\n",
    "\n",
    "print(reversed_arr)"
   ]
  },
  {
   "cell_type": "code",
   "execution_count": 267,
   "metadata": {},
   "outputs": [
    {
     "name": "stdout",
     "output_type": "stream",
     "text": [
      "[1, 2, 3, 4, 2, 3, 5, 6, 5, 7, 8, 7]\n",
      "[1, 2, 3, 4, 2, 3, 5, 6, 5, 7, 8, 7]\n",
      "[1, 2, 3, 4, 2, 3, 5, 6, 5, 7, 8, 7]\n",
      "[1, 2, 3, 4, 2, 3, 5, 6, 5, 7, 8, 7]\n",
      "[1, 2, 3, 4, 2, 3, 5, 6, 5, 7, 8, 7]\n",
      "[1, 2, 3, 4, 2, 3, 5, 6, 5, 7, 8, 7]\n",
      "[1, 2, 3, 4, 2, 3, 5, 6, 5, 7, 8, 7]\n",
      "[1, 2, 3, 4, 2, 3, 5, 6, 5, 7, 8, 7]\n",
      "[1, 2, 3, 4, 2, 3, 5, 6, 5, 7, 8, 7]\n",
      "[1, 2, 3, 4, 2, 3, 5, 6, 5, 7, 8, 7]\n",
      "[1, 2, 3, 4, 2, 3, 5, 6, 5, 7, 8, 7]\n",
      "[1, 2, 3, 4, 2, 3, 5, 6, 5, 7, 8, 7]\n",
      "[1, 2, 3, 4, 2, 3, 5, 6, 5, 7, 8, 7]\n"
     ]
    }
   ],
   "source": [
    "data = np.array([1, 2, 3, 4, 2, 3, 5, 6, 5, 7, 8, 7])\n",
    "\n",
    "data_container = []\n",
    "# populate our data \n",
    "for x in data:\n",
    "    try:\n",
    "        x_list = int(x)\n",
    "        data_container.append(x_list)\n",
    "    except:\n",
    "        print()\n",
    "\n",
    "for i in data_container:\n",
    "    if data_container[i:11] == data_container[i:11]:\n",
    "        data_container.pop\n",
    "        print(data_container)\n",
    "            \n",
    "print(data_container)\n",
    "\n",
    "#unique_element = [k for k in data if data_container[0:11] != ]\n",
    "#print(unique_element)"
   ]
  },
  {
   "cell_type": "code",
   "execution_count": 268,
   "metadata": {},
   "outputs": [
    {
     "name": "stdout",
     "output_type": "stream",
     "text": [
      "Unique values: [1, 2, 3, 4, 5, 6, 7, 8]\n"
     ]
    }
   ],
   "source": [
    "import numpy as np\n",
    "\n",
    "data = np.array([1, 2, 3, 4, 2, 3, 5, 6, 5, 7, 8, 7])\n",
    "\n",
    "data_container = []\n",
    "# Populate the list while ensuring no duplicates\n",
    "for x in data:\n",
    "    if x not in data_container:\n",
    "        data_container.append(int(x))  # Append unique values only\n",
    "\n",
    "print(\"Unique values:\", data_container)"
   ]
  },
  {
   "cell_type": "code",
   "execution_count": null,
   "metadata": {},
   "outputs": [
    {
     "name": "stdout",
     "output_type": "stream",
     "text": [
      "this one is second largest99\n",
      "[45, 78, 99, 23, 12, 88, 91, 100, 67]\n",
      "100\n"
     ]
    }
   ],
   "source": [
    "arr = np.array([45, 78, 99, 23, 12, 88, 91, 100, 67])\n",
    "\n",
    "container =  []\n",
    "\n",
    "\n",
    "for x in arr:\n",
    "    try:\n",
    "        x_list = int(x)\n",
    "        container.append(x_list)\n",
    "    \n",
    "    except:\n",
    "        print()\n",
    "\n",
    "largest = max(container)\n",
    "\n",
    "second_largest = [k for k in container if k != largest]\n",
    "\n",
    "\n",
    "print(f'this one is second largest{max(second_largest) }')\n",
    "print(container)\n",
    "print(largest)\n",
    "\n",
    "# my answer to find second largest \n"
   ]
  },
  {
   "cell_type": "code",
   "execution_count": 294,
   "metadata": {},
   "outputs": [
    {
     "name": "stdout",
     "output_type": "stream",
     "text": [
      "This one is the second largest: 99\n",
      "All values: [ 45  78  99  23  12  88  91 100  67]\n",
      "Largest value: 100\n"
     ]
    }
   ],
   "source": [
    "import numpy as np\n",
    "\n",
    "arr = np.array([45, 78, 99, 23, 12, 88, 91, 100, 67])\n",
    "\n",
    "# Find the largest number\n",
    "largest = np.max(arr)\n",
    "\n",
    "# Remove only ONE occurrence of the largest number and get the max of the rest\n",
    "arr_filtered = arr[arr != largest]  # Remove only one occurrence\n",
    "\n",
    "second_largest = np.max(arr_filtered)\n",
    "\n",
    "print(f'This one is the second largest: {second_largest}')\n",
    "print(f'All values: {arr}')\n",
    "print(f'Largest value: {largest}')"
   ]
  }
 ],
 "metadata": {
  "kernelspec": {
   "display_name": "base",
   "language": "python",
   "name": "python3"
  },
  "language_info": {
   "codemirror_mode": {
    "name": "ipython",
    "version": 3
   },
   "file_extension": ".py",
   "mimetype": "text/x-python",
   "name": "python",
   "nbconvert_exporter": "python",
   "pygments_lexer": "ipython3",
   "version": "3.11.7"
  }
 },
 "nbformat": 4,
 "nbformat_minor": 2
}
