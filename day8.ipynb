{
 "cells": [
  {
   "cell_type": "code",
   "execution_count": 1,
   "metadata": {},
   "outputs": [],
   "source": [
    "import numpy as np"
   ]
  },
  {
   "cell_type": "code",
   "execution_count": 13,
   "metadata": {},
   "outputs": [
    {
     "name": "stdout",
     "output_type": "stream",
     "text": [
      "this is the even number was replace by -1\n",
      "[[63 -1 -1 -1 -1]\n",
      " [97 -1 13 -1 -1]\n",
      " [23 -1 -1 51 19]\n",
      " [-1 85 -1 75 -1]\n",
      " [-1 -1 55 89 -1]]\n",
      "this is the [59, 107, 91, 157, 141]\n",
      "this is max number of each row [63, 97, 51, 85, 89]\n"
     ]
    }
   ],
   "source": [
    "data = np.random.randint(1,100,(5,5))\n",
    "\n",
    "data[data % 2 == 0 ] = -1\n",
    "\n",
    "print('this is the even number was replace by -1')\n",
    "print(data)\n",
    "\n",
    "data_container = []\n",
    "data_container_max = []\n",
    "x = 0\n",
    "\n",
    "for x in range(5):\n",
    "    i = sum(data[x])    \n",
    "    i2 = max(data[x])                          \n",
    "    data_container.append(i)\n",
    "    data_container_max.append(i2)\n",
    "\n",
    "print(f'this is the {data_container}')\n",
    "print(f'this is max number of each row {data_container_max}')"
   ]
  },
  {
   "cell_type": "code",
   "execution_count": 18,
   "metadata": {},
   "outputs": [],
   "source": [
    "a = np.array([6, 6])"
   ]
  },
  {
   "cell_type": "code",
   "execution_count": 12,
   "metadata": {},
   "outputs": [
    {
     "name": "stdout",
     "output_type": "stream",
     "text": [
      "this is the mean 5.444444444444445\n",
      "this is the meadian 5.0\n",
      "this is the mode 3\n"
     ]
    }
   ],
   "source": [
    "import scipy\n",
    "import numpy as np\n",
    "import statistics\n",
    "dataset1 = np.array([5,3,8,3,9,3,4,6,8])\n",
    "\n",
    "print(f'this is the mean {np.mean(dataset1)}')\n",
    "print(f'this is the meadian {np.median(dataset1)}')\n",
    "print(f'this is the mode {statistics.mode(dataset1)}')"
   ]
  },
  {
   "cell_type": "code",
   "execution_count": 13,
   "metadata": {},
   "outputs": [
    {
     "ename": "SyntaxError",
     "evalue": "invalid decimal literal (563787600.py, line 1)",
     "output_type": "error",
     "traceback": [
      "  \u001b[36mCell\u001b[39m\u001b[36m \u001b[39m\u001b[32mIn[13]\u001b[39m\u001b[32m, line 1\u001b[39m\n\u001b[31m    \u001b[39m\u001b[31m[ 2x + y - z = 8\u001b[39m\n      ^\n\u001b[31mSyntaxError\u001b[39m\u001b[31m:\u001b[39m invalid decimal literal\n"
     ]
    }
   ],
   "source": [
    "[ 2x + y - z = 8\n",
    "-3x - y + 2z = -11\n",
    "-2x + y + 2z = -3 ]"
   ]
  },
  {
   "cell_type": "markdown",
   "metadata": {},
   "source": []
  },
  {
   "cell_type": "code",
   "execution_count": 17,
   "metadata": {},
   "outputs": [
    {
     "name": "stdout",
     "output_type": "stream",
     "text": [
      "Solution: [ 2.  3. -1.]\n"
     ]
    }
   ],
   "source": [
    "from scipy.linalg import solve\n",
    "\n",
    "\n",
    "solution = solve([[2, 1, -1], [-3, -1, 2], [-2, 1, 2]], [8, -11, -3])\n",
    "\n",
    "# Print the solution\n",
    "print(\"Solution:\", solution)\n"
   ]
  },
  {
   "cell_type": "code",
   "execution_count": 23,
   "metadata": {},
   "outputs": [
    {
     "name": "stdout",
     "output_type": "stream",
     "text": [
      "[ 2.95121951  1.56097561 -0.14634146]\n"
     ]
    }
   ],
   "source": [
    "from scipy.linalg import solve\n",
    "import numpy as  np\n",
    "# [ 2x + 3y + 4z = 10 \\ -x + 5y - z = 5 \\ 3x - y + 2z = 7 ]\n",
    "data_a = np.array([[2,3,4],[-1,5,-1],[3,-1,2]])\n",
    "data_b = np.array([10,5,7])\n",
    "\n",
    "\n",
    "\n",
    "data_c = np.linalg.solve(data_a,data_b)\n",
    "print(data_c)"
   ]
  }
 ],
 "metadata": {
  "kernelspec": {
   "display_name": "Python 3",
   "language": "python",
   "name": "python3"
  },
  "language_info": {
   "codemirror_mode": {
    "name": "ipython",
    "version": 3
   },
   "file_extension": ".py",
   "mimetype": "text/x-python",
   "name": "python",
   "nbconvert_exporter": "python",
   "pygments_lexer": "ipython3",
   "version": "3.12.3"
  }
 },
 "nbformat": 4,
 "nbformat_minor": 2
}
