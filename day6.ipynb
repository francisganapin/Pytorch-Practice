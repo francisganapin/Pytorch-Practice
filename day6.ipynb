{
 "cells": [
  {
   "cell_type": "code",
   "execution_count": 1,
   "metadata": {},
   "outputs": [],
   "source": [
    "import numpy as np"
   ]
  },
  {
   "cell_type": "markdown",
   "metadata": {},
   "source": [
    "Alright, here's a fun and slightly more advanced NumPy challenge:\n",
    "\n",
    "Problem: Image-like Array Manipulation\n",
    "\n",
    "Create a 10x10 NumPy array of random integers between 0 and 255 to simulate a grayscale image.\n",
    "\n",
    "Normalize the pixel values to be between 0 and 1.\n",
    "\n",
    "Replace all pixel values greater than 0.7 with 1.\n",
    "\n",
    "Divide the array into four quadrants and calculate the average value of each quadrant.\n",
    "\n",
    "Find the location (row, column) of the pixel with the highest value in the entire array.\n",
    "\n",
    "Give this one a try! If you solve it, I'd love to see your work. 😊\n"
   ]
  },
  {
   "cell_type": "code",
   "execution_count": 78,
   "metadata": {},
   "outputs": [
    {
     "name": "stdout",
     "output_type": "stream",
     "text": [
      "[[1.         1.         0.38823529 0.18039216 1.         0.10980392\n",
      "  0.31372549 1.         0.50196078 0.5254902 ]\n",
      " [0.07058824 0.04705882 0.45490196 0.36470588 0.07843137 1.\n",
      "  1.         1.         1.         0.4627451 ]\n",
      " [0.14509804 0.04313725 1.         0.33333333 0.15294118 0.02352941\n",
      "  0.02745098 0.63529412 0.21960784 1.        ]\n",
      " [0.01960784 0.5372549  1.         1.         1.         0.05882353\n",
      "  0.12156863 1.         0.20784314 0.68235294]\n",
      " [1.         0.49019608 1.         1.         0.35686275 1.\n",
      "  0.45490196 0.43137255 1.         0.43137255]\n",
      " [1.         0.3254902  0.56470588 1.         0.52156863 0.39215686\n",
      "  0.52156863 0.6745098  1.         0.23137255]\n",
      " [0.20392157 1.         0.30196078 0.64313725 0.11764706 0.23921569\n",
      "  0.11764706 0.57254902 0.12941176 0.62352941]\n",
      " [0.23137255 1.         1.         0.61960784 0.5372549  0.18431373\n",
      "  0.38823529 0.42745098 1.         0.59607843]\n",
      " [0.25882353 1.         0.61176471 0.28627451 1.         0.69019608\n",
      "  0.44705882 0.11372549 0.43137255 1.        ]\n",
      " [0.15294118 1.         1.         0.51764706 0.63137255 1.\n",
      "  0.49411765 0.55686275 0.58039216 1.        ]]\n",
      "(0, 0)\n",
      "Q1:0.5465098039215686  Q2:0.5683137254901961  Q3:0.6210196078431373 Q4:0.5364705882352941\n"
     ]
    }
   ],
   "source": [
    "image = np.random.randint(0.0, 255.0, (10,10))\n",
    "\n",
    "\n",
    "image_normalized = image /255.0\n",
    "\n",
    "\n",
    "image_thresholded = np.where(image_normalized > 0.7,1,image_normalized)\n",
    "\n",
    "\n",
    "#print(image_normalized)\n",
    "print(image_thresholded)\n",
    "\n",
    "top_left = image_thresholded[:5,:5]\n",
    "top_right = image_thresholded[:5,5:]\n",
    "bottom_left = image_thresholded[5:,:5]\n",
    "bottom_right = image_thresholded[5:,5:]\n",
    "\n",
    "av1 = np.mean(top_left)\n",
    "av2 = np.mean(top_right)\n",
    "av3 = np.mean(bottom_left)\n",
    "av4 = np.mean(bottom_right)\n",
    "\n",
    "max_location = np.unravel_index(np.argmax(image_thresholded),image_thresholded.shape)\n",
    "print(max_location)\n",
    "\n",
    "print(f'Q1:{av1}  Q2:{av2}  Q3:{av3} Q4:{av4}')\n"
   ]
  },
  {
   "cell_type": "markdown",
   "metadata": {},
   "source": [
    "Alright, here’s a medium-level NumPy challenge for you:\n",
    "\n",
    "Problem: Logical Indexing and Advanced Calculations\n",
    "\n",
    "Create a 15x15 matrix with random integers between 1 and 100.\n",
    "\n",
    "Find all elements that are divisible by 3 and replace them with -1.\n",
    "\n",
    "Calculate the sum of the elements in each row and identify the row index with the smallest sum.\n",
    "\n",
    "Create a sub-matrix by extracting all rows from the original matrix where the sum of the row elements is greater than 500.\n",
    "\n",
    "Flatten the sub-matrix and calculate the median and standard deviation of its elements.\n",
    "\n",
    "This should test both your problem-solving skills and familiarity with NumPy. Let me know how it goes! 😊\n",
    "\n"
   ]
  },
  {
   "cell_type": "code",
   "execution_count": 90,
   "metadata": {},
   "outputs": [
    {
     "ename": "SyntaxError",
     "evalue": "invalid syntax (2129584169.py, line 3)",
     "output_type": "error",
     "traceback": [
      "  \u001b[36mCell\u001b[39m\u001b[36m \u001b[39m\u001b[32mIn[90]\u001b[39m\u001b[32m, line 3\u001b[39m\n\u001b[31m    \u001b[39m\u001b[31mfilterd_data = data_15[]\u001b[39m\n                           ^\n\u001b[31mSyntaxError\u001b[39m\u001b[31m:\u001b[39m invalid syntax\n"
     ]
    }
   ],
   "source": [
    "data_15 = np.random.randint(1,100,(15,15))\n",
    "\n",
    "filterd_data = data_15[]\n",
    "\n",
    "replace_3_data = [3 if x % 3 == 0 else x for x in data_15.flatten()]\n",
    "print(replace_3_data)\n",
    "\n",
    "\n",
    "\n",
    "# replace all 3 to -1\n",
    "replace_neg1 = [-1 if x == 3 else x for x in replace_3_data]\n",
    "print(replace_neg1)\n",
    "\n",
    "print(sum(replace_3_data))\n",
    "\n",
    "row_sum = sum(replace_3_data)\n",
    "\n",
    "print(sum(replace_neg1))\n",
    "\n",
    "submatrix = data_15[row_sum > 500]\n",
    "\n",
    "print(submatrix)"
   ]
  },
  {
   "cell_type": "code",
   "execution_count": 42,
   "metadata": {},
   "outputs": [
    {
     "name": "stdout",
     "output_type": "stream",
     "text": [
      "[[ -1  25  46  -1  -1  56  43   5  -1  -1  -1  23  40  35  92]\n",
      " [ -1  20  31  -1  26  58  80  -1  -1  -1  77  89  -1  31  65]\n",
      " [ -1  31  94  52  55  83  37   7  -1  16  73  74  76  16  55]\n",
      " [ 82  -1   2  29  -1  10  74  70  80  50  17  -1  22  49  22]\n",
      " [ 37  -1  -1  50  25  76  14  -1   7  85   2  79  -1  40  -1]\n",
      " [ 16  76  -1  -1  92  20  80  -1  53   8  79  20  64  98   5]\n",
      " [ 40   7  -1  -1  14  97  53  -1  -1  92  -1   7  -1  80  95]\n",
      " [ 95  -1  -1  29  -1  -1  -1  23  83  17  -1  -1  -1  65  -1]\n",
      " [ 53  85  -1  -1  76  68  -1   1  94   1  -1  -1  -1  10  -1]\n",
      " [ -1 100  92  17  64  32  52  -1  82  97  47  -1  -1  -1  26]\n",
      " [  7  34  58  10  31  59  32  52  52   7  62  38  85  28  65]\n",
      " [  8  74   2  -1  -1  16  50  97  -1  59  -1  -1  83  17  29]\n",
      " [ 44  49  -1  -1  58  -1  11  -1  17  67  55  -1  32  43  -1]\n",
      " [ -1  44  32  70  -1  -1  38  40  25  -1  92  -1  -1  -1  -1]\n",
      " [ 91  13  31  65  -1  44  50  77  74  41  55  14  65  74  -1]]\n",
      "[359 471 667 504 410 608 479 303 381 604 620 430 370 333 692]\n",
      "7\n"
     ]
    }
   ],
   "source": [
    "# generate a 15x15 matrix random integer was 1 and 100\n",
    "\n",
    "import numpy as np\n",
    "\n",
    "data = np.random.randint(1,101,(15,15))\n",
    "\n",
    "\n",
    "# replace the elements divisible by 3 with -1\n",
    "\n",
    "data_replace_3 = np.where(data % 3 == 0, -1, data)\n",
    "\n",
    "sum_row = np.sum(data_replace_3,axis =1)\n",
    "min_sum_index = np.argmin(sum_row)\n",
    "\n",
    "\n",
    "print(data_replace_3)\n",
    "print(sum_row)\n",
    "print(min_sum_index)"
   ]
  },
  {
   "cell_type": "code",
   "execution_count": 1,
   "metadata": {},
   "outputs": [],
   "source": [
    "import pandas as pd\n"
   ]
  },
  {
   "cell_type": "code",
   "execution_count": 2,
   "metadata": {},
   "outputs": [],
   "source": [
    "data = {\n",
    "    'Name': ['John', 'Alice', 'Michael', 'Sarah'],\n",
    "    'Age': [25, 30, 22, 28],\n",
    "    'City': ['New York', 'Los Angeles', 'Chicago', 'Miami']\n",
    "}"
   ]
  },
  {
   "cell_type": "code",
   "execution_count": null,
   "metadata": {},
   "outputs": [
    {
     "name": "stdout",
     "output_type": "stream",
     "text": [
      "  Name   Age City\n",
      "0  NaN   NaN  NaN\n",
      "1  NaN  30.0  NaN\n",
      "2  NaN   NaN  NaN\n",
      "3  NaN  28.0  NaN\n"
     ]
    }
   ],
   "source": [
    "data = {\n",
    "    'Name': ['John', 'Alice', 'Michael', 'Sarah'],\n",
    "    'Age': [25, 30, 22, 28],\n",
    "    'City': ['New York', 'Los Angeles', 'Chicago', 'Miami']\n",
    "}\n",
    "\n",
    "df = pd.DataFrame(data)\n",
    "\n",
    "# Correct filtering\n",
    "filtered_data = df.filter(items=['Age'])\n",
    "\n",
    "over_25 = df[filtered_data > 25]\n",
    "\n",
    "print(over_25)"
   ]
  },
  {
   "cell_type": "code",
   "execution_count": 22,
   "metadata": {},
   "outputs": [],
   "source": [
    "data = {\n",
    "    'Name': ['John', 'Alice', 'Michael', 'Sarah'],\n",
    "    'Age': [25, 30, 22, 28],\n",
    "    'City': ['New York', 'Los Angeles', 'Chicago', 'Miami']\n",
    "}\n",
    "\n",
    "df = pd.DataFrame(data)\n",
    "\n",
    "over_25 = df[df['Age']>25]"
   ]
  },
  {
   "cell_type": "code",
   "execution_count": 23,
   "metadata": {},
   "outputs": [
    {
     "name": "stdout",
     "output_type": "stream",
     "text": [
      "    Name  Age         City\n",
      "1  Alice   30  Los Angeles\n",
      "3  Sarah   28        Miami\n"
     ]
    }
   ],
   "source": [
    "print(over_25)"
   ]
  },
  {
   "cell_type": "code",
   "execution_count": 25,
   "metadata": {},
   "outputs": [
    {
     "name": "stdout",
     "output_type": "stream",
     "text": [
      "    Name Subject  Score\n",
      "0   John    Math     85\n",
      "3  Sarah    Math     89\n"
     ]
    }
   ],
   "source": [
    "data3 = {\n",
    "    'Name': ['John', 'Alice', 'Michael', 'Sarah'],\n",
    "    'Subject': ['Math', 'Science', 'English', 'Math'],\n",
    "    'Score': [85, 92, 78, 89]\n",
    "}\n",
    "\n",
    "df1 = pd.DataFrame(data3)\n",
    "\n",
    "math_subject =df1[df1['Subject'] == 'Math']\n",
    "print(math_subject)"
   ]
  },
  {
   "cell_type": "markdown",
   "metadata": {},
   "source": [
    "Alright, here's another pandas challenge for you:\n",
    "\n",
    "You have the following DataFrame called `sales`:\n",
    "\n",
    "| Product    | Price | Quantity |\n",
    "|------------|-------|----------|\n",
    "| Laptop     | 800   | 5        |\n",
    "| Smartphone | 500   | 10       |\n",
    "| Tablet     | 300   | 8        |\n",
    "| Monitor    | 200   | 7        |\n",
    "\n",
    "**Problem:** Write the code to add a new column called `Total Sales` that calculates the total sales for each product (i.e., `Price` multiplied by `Quantity`).\n",
    "\n",
    "Have fun with it, and let me know your answer when you're done! 😊"
   ]
  },
  {
   "cell_type": "code",
   "execution_count": 34,
   "metadata": {},
   "outputs": [
    {
     "name": "stdout",
     "output_type": "stream",
     "text": [
      "      Product  Price  Quantity  Total Sale\n",
      "0      Laptop    800         5        4000\n",
      "1  Smartphone    500        10        5000\n",
      "2      Tablet    300         8        2400\n",
      "3     Monitor    200         7        1400\n"
     ]
    }
   ],
   "source": [
    "# Data in dictionary format\n",
    "data = {\n",
    "    'Product': ['Laptop', 'Smartphone', 'Tablet', 'Monitor'],\n",
    "    'Price': [800, 500, 300, 200],\n",
    "    'Quantity': [5, 10, 8, 7]\n",
    "}\n",
    "\n",
    "df2 = pd.DataFrame(data)\n",
    "\n",
    "total_sale = df2['Price'] * df2['Quantity']\n",
    "\n",
    "df2['Total Sale'] = total_sale\n",
    "\n",
    "print(df2)"
   ]
  },
  {
   "cell_type": "markdown",
   "metadata": {},
   "source": [
    "Sure, here’s another pandas problem to challenge your skills:\n",
    "\n",
    "You have the following DataFrame called `employees`:\n",
    "\n",
    "| Employee   | Department | Salary | Years of Service |\n",
    "|------------|------------|--------|------------------|\n",
    "| John       | HR         | 50000  | 5                |\n",
    "| Alice      | IT         | 70000  | 8                |\n",
    "| Michael    | IT         | 65000  | 6                |\n",
    "| Sarah      | HR         | 52000  | 4                |\n",
    "\n",
    "**Problem:** Write the code to:\n",
    "1. Find the average salary of employees in each department.\n",
    "2. Filter out employees with `Years of Service` less than 5.\n",
    "\n",
    "Let me know your solutions when you're ready! 😊"
   ]
  },
  {
   "cell_type": "code",
   "execution_count": 7,
   "metadata": {},
   "outputs": [
    {
     "name": "stdout",
     "output_type": "stream",
     "text": [
      "Department\n",
      "HR    51000.0\n",
      "IT    67500.0\n",
      "Name: Salary, dtype: float64\n",
      "  Employee Department  Salary  Years of Service\n",
      "0     John         HR   50000                 5\n",
      "1    Alice         IT   70000                 8\n",
      "2  Michael         IT   65000                 6\n"
     ]
    }
   ],
   "source": [
    "import pandas as pd\n",
    "\n",
    "# Data in dictionary format\n",
    "data = {\n",
    "    'Employee': ['John', 'Alice', 'Michael', 'Sarah'],\n",
    "    'Department': ['HR', 'IT', 'IT', 'HR'],\n",
    "    'Salary': [50000, 70000, 65000, 52000],\n",
    "    'Years of Service': [5, 8, 6, 4]\n",
    "}\n",
    "\n",
    "df = pd.DataFrame(data)\n",
    "\n",
    "avg_salary = df.groupby('Department')['Salary'].mean()\n",
    "filtered_employee =  df[df['Years of Service'] >= 5]\n",
    "\n",
    "print(avg_salary)\n",
    "print(filtered_employee)"
   ]
  },
  {
   "cell_type": "code",
   "execution_count": 8,
   "metadata": {},
   "outputs": [],
   "source": [
    "students = pd.DataFrame({\n",
    "    'StudentID': [1, 2, 3, 4],\n",
    "    'Name': ['Alice', 'Bob', 'Charlie', 'David'],\n",
    "    'Gender': ['F', 'M', 'M', 'M']\n",
    "})\n",
    "\n",
    "# Creating the students_scores DataFrame\n",
    "students_scores = pd.DataFrame({\n",
    "    'StudentID': [1, 2, 3, 4],\n",
    "    'Math': [85, 78, 92, 88],\n",
    "    'English': [90, 82, 85, 87],\n",
    "    'Science': [88, 79, 93, 90]\n",
    "})\n"
   ]
  },
  {
   "cell_type": "code",
   "execution_count": null,
   "metadata": {},
   "outputs": [],
   "source": []
  }
 ],
 "metadata": {
  "kernelspec": {
   "display_name": "Python 3",
   "language": "python",
   "name": "python3"
  },
  "language_info": {
   "codemirror_mode": {
    "name": "ipython",
    "version": 3
   },
   "file_extension": ".py",
   "mimetype": "text/x-python",
   "name": "python",
   "nbconvert_exporter": "python",
   "pygments_lexer": "ipython3",
   "version": "3.12.3"
  }
 },
 "nbformat": 4,
 "nbformat_minor": 2
}
