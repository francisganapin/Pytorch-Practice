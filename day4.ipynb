{
 "cells": [
  {
   "cell_type": "code",
   "execution_count": 4,
   "metadata": {},
   "outputs": [],
   "source": [
    "import numpy as np\n",
    "import random as ran"
   ]
  },
  {
   "cell_type": "code",
   "execution_count": null,
   "metadata": {},
   "outputs": [
    {
     "name": "stdout",
     "output_type": "stream",
     "text": [
      "24\n",
      "[ 0  4  8 12]\n"
     ]
    }
   ],
   "source": [
    "#Question: How can you create a 4x4 NumPy array where each \n",
    "# row contains values from 0 to 3, and then calculate the sum of all elements in the array?\n",
    "\n",
    "#Give it a shot! Let me know your answer or if you'd like a hint. 😉\n",
    "\n",
    "\n",
    "array = [0,1,2,3]\n",
    "\n",
    "data_container = np.array(4 * [array])\n",
    "\n",
    "result = np.sum(data_container)\n",
    "\n",
    "\n",
    "print(result)\n",
    "print(sum(data_container))"
   ]
  },
  {
   "cell_type": "code",
   "execution_count": null,
   "metadata": {},
   "outputs": [
    {
     "name": "stdout",
     "output_type": "stream",
     "text": [
      "[-1, 41, 31, -1, 43]\n",
      "[8, 4, -1, -1, 42]\n",
      "[-1, 47, -1, -1, -1]\n",
      "[19, -1, 20, -1, -1]\n",
      "[-1, -1, 17, -1, 32]\n",
      "11.6\n"
     ]
    }
   ],
   "source": [
    "iterate = [0,0,0,0,0]\n",
    "import statistics\n",
    "\n",
    "#make random data 5 data \n",
    "c0 = [ran.randint(0,101) for x in iterate ]\n",
    "c1 = [ran.randint(0,101) for x in iterate]\n",
    "c2 = [ran.randint(0,101) for x in iterate]\n",
    "c3 = [ran.randint(0,101) for x in iterate]\n",
    "c4 = [ran.randint(0,101) for x in iterate]\n",
    "\n",
    "\n",
    "\n",
    "#replace the data in the list if greater than 50 turn it as -1\n",
    "c0 = [-1 if x > 50 else x for x in c0 ]\n",
    "c1 = [-1 if x > 50 else x for x in c1]\n",
    "c2 = [-1 if x > 50 else x for x in c2]\n",
    "c3 = [-1 if x > 50 else x for x in c3]\n",
    "c4 = [-1 if x > 50 else x for x in c4]\n",
    "\n",
    "\n",
    "print(c0)\n",
    "print(c1)\n",
    "print(c2)\n",
    "print(c3)\n",
    "print(c4)\n",
    "\n",
    "data_added = c0+c1+c2+c3+c4\n",
    "\n",
    "clean_data = statistics.mean(data_added)\n",
    "\n",
    "print(clean_data) # this is the mean of all added data \n"
   ]
  },
  {
   "cell_type": "markdown",
   "metadata": {},
   "source": [
    "Your computed mean of **11.6** is indeed correct based on the sample data you provided. Let's walk through the process step by step:\n",
    "\n",
    "1. **Data Creation:**  \n",
    "   You generated 5 lists (`c0` to `c4`), each with 5 random integers. For instance, one of your sample lists is:\n",
    "   ```\n",
    "   c0 = [-1, 41, 31, -1, 43]\n",
    "   ```\n",
    "   The sum of this list is:  \n",
    "   \\(-1 + 41 + 31 - 1 + 43 = 113\\).\n",
    "\n",
    "2. **Replacing Values:**  \n",
    "   For each list, you replaced any number greater than 50 with \\(-1\\).\n",
    "\n",
    "3. **Mean Calculation:**  \n",
    "   You concatenated the five lists into one list of 25 numbers and computed the mean:\n",
    "   - Sum of all lists: \\(113 + 52 + 43 + 36 + 46 = 290\\)\n",
    "   - Number of elements: \\(25\\)\n",
    "   - Mean: \\(290 \\div 25 = 11.6\\)\n",
    "\n",
    "So, the result **11.6** matches perfectly with the expected output based on your sample data.\n",
    "\n",
    "---\n",
    "\n",
    "### A More NumPy-Centric Approach\n",
    "\n",
    "While your solution works with lists, the original challenge was designed to utilize NumPy. Here's how you could do it using NumPy's functionality:\n",
    "\n",
    "```python\n",
    "import numpy as np\n",
    "\n",
    "# Create a 5x5 array with random integers between 1 and 100\n",
    "arr = np.random.randint(1, 101, (5, 5))\n",
    "print(\"Original Array:\")\n",
    "print(arr)\n",
    "\n",
    "# Replace values greater than 50 with -1 using np.where\n",
    "modified_arr = np.where(arr > 50, -1, arr)\n",
    "print(\"Modified Array:\")\n",
    "print(modified_arr)\n",
    "\n",
    "# Calculate and print the mean of the modified array\n",
    "mean_value = np.mean(modified_arr)\n",
    "print(\"Mean of the modified array:\", mean_value)\n",
    "```\n",
    "\n",
    "This code does the following:  \n",
    "- **Creates** a 5x5 array of random integers.  \n",
    "- **Replaces** every element greater than 50 with \\(-1\\) in a vectorized manner using `np.where`.  \n",
    "- **Calculates** the mean using `np.mean`.\n",
    "\n",
    "This approach leverages NumPy's efficiency and is more in line with the problem requirements.\n",
    "\n",
    "---\n",
    "\n",
    "**Extra Insight:**  \n",
    "By using vectorized operations, you not only simplify your code but also gain performance benefits, especially when working with large datasets. Have you noticed how operations on arrays in NumPy avoid the need for explicit loops, making your code both readable and efficient?\n",
    "\n",
    "Would you like to dive deeper into more challenges that explore these vectorized operations, or perhaps something related to data manipulation with indexing and slicing in NumPy?"
   ]
  },
  {
   "cell_type": "markdown",
   "metadata": {},
   "source": [
    "Problem: Unique Diagonals Product\n",
    "\n",
    "Array Creation: Create a 10×10 NumPy array named arr filled with random integers from 0 to 100 (inclusive).\n",
    "\n",
    "Diagonal Extraction:\n",
    "\n",
    "Extract the primary diagonal of arr (elements at positions [i, i] for i = 0, 1, …, 9).\n",
    "\n",
    "Extract the secondary diagonal of arr (elements at positions [i, 9 - i] for i = 0, 1, …, 9).\n",
    "\n",
    "Combine Uniquely: Merge the two sets of diagonal elements into one 1D array ensuring that if a value appears in both diagonals, it occurs only once in the final array.\n",
    "\n",
    "Final Calculation: Compute and print the product of the unique diagonal elements."
   ]
  },
  {
   "cell_type": "code",
   "execution_count": null,
   "metadata": {},
   "outputs": [
    {
     "name": "stdout",
     "output_type": "stream",
     "text": [
      "[[65 86 46 78 36 24 96 88 77 69]\n",
      " [36 36 42 83 86  1 55 70 80 74]\n",
      " [53 99 33  9 75 40 19 98 40  6]\n",
      " [62 98 19 71 94 46 84 95 47 95]\n",
      " [96 24 45 83 40  4 85 76 84  6]\n",
      " [43  6 10 33 30  1 48 47 27 85]\n",
      " [22 98 41 57 25 62  2 97 75 89]\n",
      " [60 50 38 72 13 51 94 81 32 15]\n",
      " [32 19 30 71 35 21 34 56 44 81]\n",
      " [17 33 23 46 45 53  7 53 38 15]]\n",
      "original array [[65 86 46 78 36 24 96 88 77 69]\n",
      " [36 36 42 83 86  1 55 70 80 74]\n",
      " [53 99 33  9 75 40 19 98 40  6]\n",
      " [62 98 19 71 94 46 84 95 47 95]\n",
      " [96 24 45 83 40  4 85 76 84  6]\n",
      " [43  6 10 33 30  1 48 47 27 85]\n",
      " [22 98 41 57 25 62  2 97 75 89]\n",
      " [60 50 38 72 13 51 94 81 32 15]\n",
      " [32 19 30 71 35 21 34 56 44 81]\n",
      " [17 33 23 46 45 53  7 53 38 15]]\n",
      "this is the primary diagonal [65, 36, 33, 71, 40, 1, 2, 81, 44, 15]\n",
      "this is the secondary diagonal [69, 80, 98, 84, 4, 30, 57, 38, 19, 17]\n"
     ]
    }
   ],
   "source": [
    "import numpy as np\n",
    "\n",
    "arr = np.random.randint(1,101,(10,10))\n",
    "print(arr)\n",
    "\n",
    "\n",
    "\n",
    " \n",
    "primary_diagonal = [arr[i, i] for i in range(10)]\n",
    "\n",
    "secondary_diagonal = [arr[i,9 -i] for i in range(10)]\n",
    "\n",
    "print(f'original array {arr}')\n",
    "print(f'this is the primary diagonal {primary_diagonal}')\n",
    "print(f'this is the secondary diagonal {secondary_diagonal}')"
   ]
  },
  {
   "cell_type": "markdown",
   "metadata": {},
   "source": [
    "You're very close! Your extraction of the primary diagonal is perfect. However, for the secondary diagonal, you're using `range(9)`, which means you're only iterating from 0 to 8. Since the array is 10×10, you need to iterate over all 10 indices. To extract every element in the secondary diagonal, change it to:\n",
    "\n",
    "```python\n",
    "secondary_diagonal = [arr[i, 9 - i] for i in range(10)]\n",
    "```\n",
    "\n",
    "Here's your corrected code with a complete solution that includes computing the product of the unique diagonal elements:\n",
    "\n",
    "```python\n",
    "import numpy as np\n",
    "from functools import reduce\n",
    "import operator\n",
    "\n",
    "# Create a 10x10 array with random integers from 0 to 100 (inclusive)\n",
    "arr = np.random.randint(0, 101, (10, 10))\n",
    "print(\"Original array:\")\n",
    "print(arr)\n",
    "\n",
    "# Extract the primary diagonal\n",
    "primary_diagonal = [arr[i, i] for i in range(10)]\n",
    "\n",
    "# Extract the secondary diagonal (note: we now iterate over all 10 indices)\n",
    "secondary_diagonal = [arr[i, 9 - i] for i in range(10)]\n",
    "\n",
    "print(\"\\nPrimary diagonal:\")\n",
    "print(primary_diagonal)\n",
    "print(\"\\nSecondary diagonal:\")\n",
    "print(secondary_diagonal)\n",
    "\n",
    "# Merge the two lists and then get unique elements\n",
    "# The simplest way is to use set() which automatically removes duplicates\n",
    "unique_diagonals = list(set(primary_diagonal + secondary_diagonal))\n",
    "print(\"\\nUnique diagonal elements:\")\n",
    "print(unique_diagonals)\n",
    "\n",
    "# Compute the product of the unique diagonal elements\n",
    "# We'll use reduce to multiply all elements together.\n",
    "product = reduce(operator.mul, unique_diagonals, 1)\n",
    "print(\"\\nProduct of unique diagonal elements:\")\n",
    "print(product)\n",
    "```\n",
    "\n",
    "### Explanation\n",
    "1. **Array Creation:**  \n",
    "   We generate a 10×10 array with random integers from 0 to 100 using `np.random.randint(0, 101, (10, 10))`.\n",
    "\n",
    "2. **Diagonal Extraction:**  \n",
    "   - **Primary Diagonal:** The code `[arr[i, i] for i in range(10)]` correctly gets the elements `[arr[0,0], arr[1,1], ..., arr[9,9]]`.\n",
    "   - **Secondary Diagonal:** We corrected it to `[arr[i, 9 - i] for i in range(10)]` to ensure that elements from `arr[0,9]` to `arr[9,0]` are included.\n",
    "\n",
    "3. **Unique Elements:**  \n",
    "   We combined the two lists and converted them into a set to remove any duplicate values. Then we converted the set back into a list.\n",
    "\n",
    "4. **Product Calculation:**  \n",
    "   We used `reduce(operator.mul, unique_diagonals, 1)` to compute the product of all the unique diagonal elements.\n",
    "\n",
    "---\n",
    "\n",
    "This revised solution covers the entire problem as stated. Would you like to explore some more NumPy challenges, like advanced indexing or broadcasting concepts?"
   ]
  },
  {
   "cell_type": "markdown",
   "metadata": {},
   "source": [
    "Challenge Problem: Transform and Aggregate a 10x10 Array\n",
    "\n",
    "Array Initialization: Create a 10×10 NumPy array named arr filled with random integers between -50 and 50 (inclusive).\n",
    "\n",
    "Element-wise Transformation:\n",
    "\n",
    "Replace every negative value in arr with 0.\n",
    "\n",
    "For every positive element:\n",
    "\n",
    "If it's even, replace it with its square.\n",
    "\n",
    "If it's odd, replace it with its cube.\n",
    "\n",
    "Hint: Try to perform these operations in a vectorized way using functions like np.where or boolean indexing.\n",
    "\n"
   ]
  },
  {
   "cell_type": "code",
   "execution_count": null,
   "metadata": {},
   "outputs": [
    {
     "name": "stdout",
     "output_type": "stream",
     "text": [
      "[[-23   6  10  34   9  -2   1 -46 -21  13]\n",
      " [ 39  10  35   3 -27  33  34  -7  -1  39]\n",
      " [ 31  46 -39 -38  43 -31 -22 -19 -14 -22]\n",
      " [ 48  45  10 -35  45  38  40  30   5 -19]\n",
      " [-44 -20   1 -39  33 -37  39 -31 -28  -6]\n",
      " [ 29 -37  10  -9  27   2 -44  -2 -21 -13]\n",
      " [-11  -2  21  -2 -49 -47  22  26  12 -23]\n",
      " [-31  27  31  20 -14 -28  34   8 -22  32]\n",
      " [ 29  44  23  36  13  35  40  43   8 -34]\n",
      " [-47 -31 -49  48  28 -25 -11  13 -18 -26]]\n",
      "replace all negative with zero here[[ 0  6 10 34  9  0  1  0  0 13]\n",
      " [39 10 35  3  0 33 34  0  0 39]\n",
      " [31 46  0  0 43  0  0  0  0  0]\n",
      " [48 45 10  0 45 38 40 30  5  0]\n",
      " [ 0  0  1  0 33  0 39  0  0  0]\n",
      " [29  0 10  0 27  2  0  0  0  0]\n",
      " [ 0  0 21  0  0  0 22 26 12  0]\n",
      " [ 0 27 31 20  0  0 34  8  0 32]\n",
      " [29 44 23 36 13 35 40 43  8  0]\n",
      " [ 0  0  0 48 28  0  0 13  0  0]]\n",
      "[[    0     6    10    34   729     0     1     0     0  2197]\n",
      " [59319    10 42875    27     0 35937    34     0     0 59319]\n",
      " [29791    46     0     0 79507     0     0     0     0     0]\n",
      " [   48 91125    10     0 91125    38    40    30   125     0]\n",
      " [    0     0     1     0 35937     0 59319     0     0     0]\n",
      " [24389     0    10     0 19683     2     0     0     0     0]\n",
      " [    0     0  9261     0     0     0    22    26    12     0]\n",
      " [    0 19683 29791    20     0     0    34     8     0    32]\n",
      " [24389    44 12167    36  2197 42875    40 79507     8     0]\n",
      " [    0     0     0    48    28     0     0  2197     0     0]]\n",
      "[[   0   36  100 1156    9    0    1    0    0   13]\n",
      " [  39  100   35    3    0   33 1156    0    0   39]\n",
      " [  31 2116    0    0   43    0    0    0    0    0]\n",
      " [2304   45  100    0   45 1444 1600  900    5    0]\n",
      " [   0    0    1    0   33    0   39    0    0    0]\n",
      " [  29    0  100    0   27    4    0    0    0    0]\n",
      " [   0    0   21    0    0    0  484  676  144    0]\n",
      " [   0   27   31  400    0    0 1156   64    0 1024]\n",
      " [  29 1936   23 1296   13   35 1600   43   64    0]\n",
      " [   0    0    0 2304  784    0    0   13    0    0]]\n"
     ]
    }
   ],
   "source": [
    "arr = np.random.randint(-50,50,(10,10))\n",
    "print(arr)\n",
    "\n",
    "replace_0 = arr = np.where(arr < 0, 0, arr)  # Replace all negatives with 0\n",
    "print(f'replace all negative with zero here{replace_0}')\n",
    "\n",
    "#even = np.where(replace_0 % 2 == 0, 'square', replace_0) # wrong answere\n",
    "#odd = np.where(replace_0 % 2 !=0, 'cube', replace_0 ) # wrong answere \n",
    "\n",
    "even = np.where(replace_0 % 2 == 0, replace_0 ** 2, replace_0)\n",
    "odd = np.where(replace_0 % 2 != 0, replace_0 ** 3, replace_0)\n",
    "\n",
    "print(odd)\n",
    "print(even)"
   ]
  },
  {
   "cell_type": "markdown",
   "metadata": {},
   "source": [
    "Sure! Here's a Python question for you:\n",
    "\n",
    "Question:\n",
    "Write a Python function that takes a list of integers and returns a new list containing only the even numbers.\n",
    "\n",
    "Give it a try! 🚀"
   ]
  },
  {
   "cell_type": "code",
   "execution_count": null,
   "metadata": {},
   "outputs": [
    {
     "name": "stdout",
     "output_type": "stream",
     "text": [
      "[2, 3, 5, 6, 19, 18, 23, 21]\n",
      "[2, 6, 18]\n"
     ]
    }
   ],
   "source": [
    "data = [2,3,5,6,19,18,23,21]\n",
    "\n",
    "print(data)\n",
    "\n",
    "even = [i for i in data if i % 2 == 0]\n",
    "\n",
    "print(even)"
   ]
  },
  {
   "cell_type": "code",
   "execution_count": 5,
   "metadata": {},
   "outputs": [
    {
     "name": "stdout",
     "output_type": "stream",
     "text": [
      "[]\n"
     ]
    }
   ],
   "source": [
    "x = input('Enter String')\n",
    "\n",
    "palindrome = [i for i in x if i != 'dog']\n",
    "print(palindrome)"
   ]
  },
  {
   "cell_type": "code",
   "execution_count": 1,
   "metadata": {},
   "outputs": [
    {
     "name": "stdout",
     "output_type": "stream",
     "text": [
      "drow,olleh\n"
     ]
    }
   ],
   "source": [
    "revese_string ='hello,word'[::-1]\n",
    "\n",
    "print(revese_string)"
   ]
  },
  {
   "cell_type": "code",
   "execution_count": 17,
   "metadata": {},
   "outputs": [
    {
     "name": "stdout",
     "output_type": "stream",
     "text": [
      "6\n",
      "45\n"
     ]
    }
   ],
   "source": [
    "data = (10,20,4,45,99)\n",
    "data2 = (2,3,6,6,5)\n",
    "\n",
    "data_list2 = list(data2)\n",
    "data_max2 = max(data_list2)\n",
    "data_list2.remove(data_max2)\n",
    "\n",
    "data_list = list(data)\n",
    "\n",
    "data_max = max(data_list)\n",
    "data_list.remove(data_max)\n",
    "\n",
    "print(max(data_list2))\n",
    "print(max(data_list))\n"
   ]
  },
  {
   "cell_type": "markdown",
   "metadata": {},
   "source": [
    "Good effort! Your code works in principle but misses handling edge cases, such as when there are duplicates of the largest number or fewer than two unique values. For example, `max()` might incorrectly return the largest duplicate instead of the second largest unique value.\n",
    "\n",
    "Here's how to refine your approach to ensure accuracy:\n",
    "\n",
    "1. Use `set()` to eliminate duplicates in the list.\n",
    "2. Ensure the list has at least two unique elements.\n",
    "3. Sort the remaining values and grab the second largest.\n",
    "\n",
    "Here's a revised version of the code:\n",
    "\n",
    "```python\n",
    "def find_second_largest(data):\n",
    "    # Convert the data to a set to remove duplicates\n",
    "    unique_data = list(set(data))\n",
    "    \n",
    "    # Check if there are at least two unique numbers\n",
    "    if len(unique_data) < 2:\n",
    "        return \"Not enough unique numbers to find the second largest.\"\n",
    "    \n",
    "    # Sort and return the second largest number\n",
    "    unique_data.sort(reverse=True)\n",
    "    return unique_data[1]\n",
    "\n",
    "# Example usage\n",
    "data = (10, 20, 4, 45, 99)\n",
    "data2 = (2, 3, 6, 6, 5)\n",
    "\n",
    "print(find_second_largest(data))   # Output: 45\n",
    "print(find_second_largest(data2))  # Output: 5\n",
    "```\n",
    "\n",
    "This approach ensures correctness across all edge cases. Let me know if you'd like another challenge or further explanation! 😊"
   ]
  },
  {
   "cell_type": "markdown",
   "metadata": {},
   "source": [
    "Alright, Francis, here's a medium-level problem for you:\n",
    "\n",
    "Write a function called fizz_buzz that prints the numbers from 1 to a given integer n. But for multiples of 3, print \"Fizz\" instead of the number, and for multiples of 5, print \"Buzz.\" For numbers that are multiples of both 3 and 5, print \"FizzBuzz.\""
   ]
  },
  {
   "cell_type": "code",
   "execution_count": 38,
   "metadata": {},
   "outputs": [
    {
     "name": "stdout",
     "output_type": "stream",
     "text": [
      "Fizz\n",
      "1\n",
      "2\n",
      "Fizz\n",
      "FizzBuzz\n",
      "Buzz\n",
      "Fizz\n",
      "7\n",
      "8\n",
      "Fizz\n",
      "Buzz\n",
      "11\n",
      "Fizz\n",
      "13\n",
      "FizzBuzz\n"
     ]
    }
   ],
   "source": [
    "\n",
    "\n",
    "for x in  range(15):\n",
    "    if x  % 3 == 0:\n",
    "        print('Fizz')\n",
    "    elif x  % 5 == 0:\n",
    "        print('Buzz')\n",
    "    elif x  % 5 & 3 == 0:\n",
    "        print('FizzBuzz')\n",
    "    else:\n",
    "        print(x)"
   ]
  },
  {
   "cell_type": "markdown",
   "metadata": {},
   "source": [
    "You're getting close, Francis! However, there are a couple of adjustments needed to make your code work as intended:\n",
    "\n",
    "1. **Off-by-One Issue:** In Python, `range(15)` produces numbers from `0` to `14`. If you want to include `15`, you'll need to use `range(1, 16)` to start at `1`.\n",
    "\n",
    "2. **Order of Conditions:** The `elif x % 5 & 3 == 0` condition has an issue:\n",
    "   - `&` is a bitwise operator, not the logical `and` operator. You'll want to use `and` instead: `elif x % 5 == 0 and x % 3 == 0`.\n",
    "   - Also, this condition should appear first, since numbers divisible by both `3` and `5` need to be checked before individual divisors.\n",
    "\n",
    "Here’s the corrected version of your code:\n",
    "\n",
    "```python\n",
    "for x in range(1, 16):\n",
    "    if x % 3 == 0 and x % 5 == 0:\n",
    "        print('FizzBuzz')\n",
    "    elif x % 3 == 0:\n",
    "        print('Fizz')\n",
    "    elif x % 5 == 0:\n",
    "        print('Buzz')\n",
    "    else:\n",
    "        print(x)\n",
    "```\n",
    "\n",
    "Output:\n",
    "```\n",
    "1\n",
    "2\n",
    "Fizz\n",
    "4\n",
    "Buzz\n",
    "Fizz\n",
    "7\n",
    "8\n",
    "Fizz\n",
    "Buzz\n",
    "11\n",
    "Fizz\n",
    "13\n",
    "14\n",
    "FizzBuzz\n",
    "```\n",
    "\n",
    "This should now work perfectly for the classic FizzBuzz problem! Let me know if you'd like more challenges or further guidance. 😊"
   ]
  },
  {
   "cell_type": "code",
   "execution_count": null,
   "metadata": {},
   "outputs": [],
   "source": [
    "da"
   ]
  }
 ],
 "metadata": {
  "kernelspec": {
   "display_name": "Python 3",
   "language": "python",
   "name": "python3"
  },
  "language_info": {
   "codemirror_mode": {
    "name": "ipython",
    "version": 3
   },
   "file_extension": ".py",
   "mimetype": "text/x-python",
   "name": "python",
   "nbconvert_exporter": "python",
   "pygments_lexer": "ipython3",
   "version": "3.12.3"
  }
 },
 "nbformat": 4,
 "nbformat_minor": 2
}
