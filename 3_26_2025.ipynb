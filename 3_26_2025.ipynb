{
 "cells": [
  {
   "cell_type": "code",
   "execution_count": 30,
   "metadata": {},
   "outputs": [
    {
     "name": "stdout",
     "output_type": "stream",
     "text": [
      "<class 'float'>\n"
     ]
    }
   ],
   "source": [
    "x = 10\n",
    "y  = 10.5\n",
    "\n",
    "z = x + y\n",
    "print(type(z))"
   ]
  },
  {
   "cell_type": "code",
   "execution_count": 31,
   "metadata": {},
   "outputs": [],
   "source": [
    "x = 10.5\n",
    "y = int(x)"
   ]
  },
  {
   "cell_type": "code",
   "execution_count": 32,
   "metadata": {},
   "outputs": [],
   "source": [
    "z = float(y)"
   ]
  },
  {
   "cell_type": "code",
   "execution_count": 33,
   "metadata": {},
   "outputs": [],
   "source": [
    "num = 100\n",
    "text = str(num)"
   ]
  },
  {
   "cell_type": "code",
   "execution_count": 34,
   "metadata": {},
   "outputs": [],
   "source": [
    "my_list = [1,2,3]\n",
    "my_tumple  = tuple(my_list)"
   ]
  },
  {
   "cell_type": "code",
   "execution_count": 35,
   "metadata": {},
   "outputs": [],
   "source": [
    "# tuple to list\n",
    "\n",
    "my_new_list = list(my_tumple)"
   ]
  },
  {
   "cell_type": "code",
   "execution_count": 36,
   "metadata": {},
   "outputs": [],
   "source": [
    "my_string = 'hello'\n",
    "char_list = list(my_string)"
   ]
  },
  {
   "cell_type": "code",
   "execution_count": 37,
   "metadata": {},
   "outputs": [
    {
     "name": "stdout",
     "output_type": "stream",
     "text": [
      "{'name': 'francis', 'age': 25}\n"
     ]
    }
   ],
   "source": [
    "pairs = [('name','francis'),('age',25)]\n",
    "my_dict = dict(pairs)\n",
    "print(my_dict)"
   ]
  },
  {
   "cell_type": "code",
   "execution_count": 38,
   "metadata": {},
   "outputs": [
    {
     "name": "stdout",
     "output_type": "stream",
     "text": [
      "15.5\n"
     ]
    }
   ],
   "source": [
    "num = 10\n",
    "decimal_str = \"5.5\"\n",
    "result = num + float(decimal_str)\n",
    "print(result)"
   ]
  },
  {
   "cell_type": "code",
   "execution_count": 39,
   "metadata": {},
   "outputs": [
    {
     "name": "stdout",
     "output_type": "stream",
     "text": [
      "[1, 2, 3]\n"
     ]
    }
   ],
   "source": [
    "# converting String Numbers to integers in a list\n",
    "\n",
    "num_string_list = ['1','2','3']\n",
    "int_list = list(map(int,num_string_list))\n",
    "print(int_list)"
   ]
  },
  {
   "cell_type": "code",
   "execution_count": 40,
   "metadata": {},
   "outputs": [],
   "source": [
    "num_string_list = ['1','2','3']\n",
    "int_list = list(map(int,num_string_list))"
   ]
  },
  {
   "cell_type": "code",
   "execution_count": 41,
   "metadata": {},
   "outputs": [
    {
     "name": "stdout",
     "output_type": "stream",
     "text": [
      "[1, 2, 3]\n"
     ]
    }
   ],
   "source": [
    "print(int_list)"
   ]
  },
  {
   "cell_type": "code",
   "execution_count": 42,
   "metadata": {},
   "outputs": [],
   "source": [
    "data = {'name':'francis','score':['95','88','100']}\n"
   ]
  },
  {
   "cell_type": "code",
   "execution_count": 43,
   "metadata": {},
   "outputs": [
    {
     "name": "stdout",
     "output_type": "stream",
     "text": [
      "[('name', 'francis'), ('score', [95, 88, 100])]\n"
     ]
    }
   ],
   "source": [
    "data['score'] = [int(score) for score in data['score']]\n",
    "\n",
    "result = list(data.items())\n",
    "print(result)"
   ]
  },
  {
   "cell_type": "code",
   "execution_count": 44,
   "metadata": {},
   "outputs": [],
   "source": [
    "student_data = {\n",
    "    'name':'Francis',\n",
    "    'scores':{'math':'85','science':'92','history':'78'}\n",
    "}"
   ]
  },
  {
   "cell_type": "code",
   "execution_count": 45,
   "metadata": {},
   "outputs": [],
   "source": [
    "student_data['scores'] = {key:int(value) for key, value in student_data['scores'].items()}"
   ]
  },
  {
   "cell_type": "code",
   "execution_count": 46,
   "metadata": {},
   "outputs": [
    {
     "name": "stdout",
     "output_type": "stream",
     "text": [
      "{'name': 'Francis', 'scores': {'math': 85, 'science': 92, 'history': 78}}\n"
     ]
    }
   ],
   "source": [
    "print(student_data)"
   ]
  },
  {
   "cell_type": "code",
   "execution_count": 47,
   "metadata": {},
   "outputs": [],
   "source": [
    "students = [\n",
    "    {\"name\": \"Francis\", \"scores\": [\"85\", \"90\", \"78\"]},\n",
    "    {\"name\": \"Alex\", \"scores\": [\"88\", \"76\", \"95\"]},\n",
    "    {\"name\": \"Taylor\", \"scores\": [\"92\", \"85\", \"87\"]}\n",
    "]"
   ]
  },
  {
   "cell_type": "markdown",
   "metadata": {},
   "source": [
    "[\n",
    "    (\"Francis\", {\"scores\": [85, 90, 78], \"highest_score\": 90}),\n",
    "    (\"Alex\", {\"scores\": [88, 76, 95], \"highest_score\": 95}),\n",
    "    (\"Taylor\", {\"scores\": [92, 85, 87], \"highest_score\": 92})\n",
    "]"
   ]
  },
  {
   "cell_type": "code",
   "execution_count": 51,
   "metadata": {},
   "outputs": [
    {
     "name": "stdout",
     "output_type": "stream",
     "text": [
      "[{'name': 'Francis', 'scores': [85, 90, 78]}, {'name': 'Alex', 'scores': [88, 76, 95]}, {'name': 'Taylor', 'scores': [92, 85, 87]}]\n"
     ]
    }
   ],
   "source": [
    "for student in students:\n",
    "    student['scores'] = [int(score) for score in student['scores']]\n",
    "\n",
    "print(students)"
   ]
  },
  {
   "cell_type": "code",
   "execution_count": 52,
   "metadata": {},
   "outputs": [],
   "source": [
    "data = [\"123\", 456, \"789\", 10.5, True, \"hello\"]"
   ]
  },
  {
   "cell_type": "code",
   "execution_count": 55,
   "metadata": {},
   "outputs": [
    {
     "name": "stdout",
     "output_type": "stream",
     "text": [
      "['123', '789', 'hello']\n",
      "[456, True]\n",
      "[10.5]\n"
     ]
    }
   ],
   "source": [
    "string_container = []\n",
    "int_container = []\n",
    "float_container = []\n",
    "\n",
    "for x in data:\n",
    "    if isinstance(x,int):\n",
    "        int_container.append(x)\n",
    "    elif isinstance(x,str):\n",
    "        string_container.append(x)\n",
    "    elif isinstance(x,float):\n",
    "        float_container.append(x)\n",
    "\n",
    "print(string_container)\n",
    "print(int_container)\n",
    "print(float_container)"
   ]
  },
  {
   "cell_type": "code",
   "execution_count": 56,
   "metadata": {},
   "outputs": [
    {
     "name": "stdout",
     "output_type": "stream",
     "text": [
      "Strings: ['hello']\n",
      "Integers: [123, 456, 789, True]\n",
      "Floats: [10.5]\n"
     ]
    }
   ],
   "source": [
    "string_container = []\n",
    "int_container = []\n",
    "float_container = []\n",
    "\n",
    "for x in data:\n",
    "    if isinstance(x, int):  # Check if the element is an integer\n",
    "        int_container.append(x)\n",
    "    elif isinstance(x, str):\n",
    "        # Check if the string represents a number\n",
    "        if x.isdigit():  \n",
    "            int_container.append(int(x))  # Convert string number to integer\n",
    "        else:\n",
    "            string_container.append(x)  # Add non-numeric strings to string_container\n",
    "    elif isinstance(x, float):  # Check if the element is a float\n",
    "        float_container.append(x)\n",
    "\n",
    "print(\"Strings:\", string_container)\n",
    "print(\"Integers:\", int_container)\n",
    "print(\"Floats:\", float_container)"
   ]
  },
  {
   "cell_type": "code",
   "execution_count": 61,
   "metadata": {},
   "outputs": [],
   "source": [
    "data = [42, \"56\", 3.14, \"hello\", [100, \"200\", 300], False]"
   ]
  },
  {
   "cell_type": "code",
   "execution_count": 62,
   "metadata": {},
   "outputs": [
    {
     "name": "stdout",
     "output_type": "stream",
     "text": [
      "['hello']\n",
      "[42, 56, False]\n",
      "[3.14]\n"
     ]
    }
   ],
   "source": [
    "st_con = []\n",
    "int_con = []\n",
    "fl_con = []\n",
    "\n",
    "for x in data:\n",
    "    if isinstance(x,int):\n",
    "        int_con.append(x)\n",
    "    elif isinstance(x,str):\n",
    "        if x.isdigit():\n",
    "            int_con.append(int(x))\n",
    "        else:\n",
    "            st_con.append(x)\n",
    "    elif isinstance(x,float):\n",
    "        fl_con.append(x)\n",
    "\n",
    "print(st_con)\n",
    "print(int_con)\n",
    "print(fl_con)"
   ]
  },
  {
   "cell_type": "code",
   "execution_count": 63,
   "metadata": {},
   "outputs": [
    {
     "name": "stdout",
     "output_type": "stream",
     "text": [
      "Numbers [42, 3.14, True, False]\n",
      "Non-numbers: ['hello', '123', [1, 2, 3]]\n"
     ]
    }
   ],
   "source": [
    "numbers = []\n",
    "non_numbers = []\n",
    "\n",
    "data = [42,'hello',3.14,'123',True,[1,2,3],False]\n",
    "\n",
    "for x in data:\n",
    "    if isinstance(x,(int,float)):\n",
    "        numbers.append(x)\n",
    "    else:\n",
    "        non_numbers.append(x)\n",
    "\n",
    "print('Numbers',numbers)\n",
    "print('Non-numbers:',non_numbers)"
   ]
  },
  {
   "cell_type": "code",
   "execution_count": 64,
   "metadata": {},
   "outputs": [
    {
     "name": "stdout",
     "output_type": "stream",
     "text": [
      "True\n",
      "False\n"
     ]
    }
   ],
   "source": [
    "x = 10\n",
    "\n",
    "print(isinstance(x,int))\n",
    "print(isinstance(x,str))"
   ]
  },
  {
   "cell_type": "code",
   "execution_count": 65,
   "metadata": {},
   "outputs": [
    {
     "name": "stdout",
     "output_type": "stream",
     "text": [
      "True\n"
     ]
    }
   ],
   "source": [
    "y = 3.14\n",
    "print(isinstance(y,(int,float)))"
   ]
  },
  {
   "cell_type": "code",
   "execution_count": 66,
   "metadata": {},
   "outputs": [
    {
     "name": "stdout",
     "output_type": "stream",
     "text": [
      "True\n",
      "True\n",
      "False\n"
     ]
    }
   ],
   "source": [
    "class Animal:\n",
    "    pass\n",
    "\n",
    "class Dog(Animal):\n",
    "    pass\n",
    "\n",
    "dog = Dog()\n",
    "\n",
    "print(isinstance(dog,Dog))\n",
    "print(isinstance(dog,Animal))\n",
    "print(isinstance(dog,str))"
   ]
  },
  {
   "cell_type": "code",
   "execution_count": null,
   "metadata": {},
   "outputs": [],
   "source": []
  },
  {
   "cell_type": "markdown",
   "metadata": {},
   "source": [
    "In Python, `isinstance()` is a built-in function used to check whether an object is an instance of a specified class or a tuple of classes. \n",
    "\n",
    "### Syntax:\n",
    "```python\n",
    "isinstance(object, classinfo)\n",
    "```\n",
    "- `object` → The variable or value you want to check.\n",
    "- `classinfo` → A class or tuple of classes to check against.\n",
    "\n",
    "### Returns:\n",
    "- `True` if `object` is an instance of `classinfo` or a subclass of it.\n",
    "- `False` otherwise.\n",
    "\n",
    "---\n",
    "\n",
    "### Example 1: Checking a single class\n",
    "```python\n",
    "x = 10\n",
    "print(isinstance(x, int))  # True\n",
    "print(isinstance(x, str))  # False\n",
    "```\n",
    "\n",
    "### Example 2: Checking multiple classes (tuple)\n",
    "```python\n",
    "y = 3.14\n",
    "print(isinstance(y, (int, float)))  # True\n",
    "```\n",
    "\n",
    "### Example 3: Checking an instance of a custom class\n",
    "```python\n",
    "class Animal:\n",
    "    pass\n",
    "\n",
    "class Dog(Animal):\n",
    "    pass\n",
    "\n",
    "dog = Dog()\n",
    "\n",
    "print(isinstance(dog, Dog))      # True\n",
    "print(isinstance(dog, Animal))   # True (since Dog is a subclass of Animal)\n",
    "print(isinstance(dog, str))      # False\n",
    "```\n",
    "\n",
    "Let me know if you need more examples or explanations! 🚀"
   ]
  },
  {
   "cell_type": "code",
   "execution_count": 67,
   "metadata": {},
   "outputs": [
    {
     "name": "stdout",
     "output_type": "stream",
     "text": [
      "True\n",
      "False\n"
     ]
    }
   ],
   "source": [
    "x = [1,2,3]\n",
    "print(isinstance(x,list))\n",
    "print(isinstance(x,tuple))"
   ]
  },
  {
   "cell_type": "code",
   "execution_count": 68,
   "metadata": {},
   "outputs": [
    {
     "name": "stdout",
     "output_type": "stream",
     "text": [
      "20\n",
      "HELLO\n",
      "[2, 4, 6]\n"
     ]
    }
   ],
   "source": [
    "def process_data(data):\n",
    "    if isinstance(data,str):\n",
    "        return data.upper()\n",
    "    elif isinstance(data,(int,float)):\n",
    "        return data * 2\n",
    "    elif isinstance(data,list):\n",
    "        return [ x * 2 for x in data]\n",
    "    else:\n",
    "        return 'well'\n",
    "\n",
    "print(process_data(10))\n",
    "print(process_data('hello'))\n",
    "print(process_data([1,2,3]))"
   ]
  },
  {
   "cell_type": "code",
   "execution_count": 69,
   "metadata": {},
   "outputs": [
    {
     "name": "stdout",
     "output_type": "stream",
     "text": [
      "True\n",
      "True\n"
     ]
    }
   ],
   "source": [
    "# checking subclass\n",
    "\n",
    "class Animal:\n",
    "    pass\n",
    "\n",
    "class Dog(Animal):\n",
    "    pass\n",
    "\n",
    "dog = Dog()\n",
    "\n",
    "print(isinstance(dog,Dog))\n",
    "print(isinstance(dog,Animal))"
   ]
  },
  {
   "cell_type": "code",
   "execution_count": 70,
   "metadata": {},
   "outputs": [
    {
     "name": "stdout",
     "output_type": "stream",
     "text": [
      "True\n"
     ]
    }
   ],
   "source": [
    "num = 3.5\n",
    "print(isinstance(num,(int,float)))"
   ]
  },
  {
   "cell_type": "code",
   "execution_count": 71,
   "metadata": {},
   "outputs": [
    {
     "name": "stdout",
     "output_type": "stream",
     "text": [
      "Valid Number\n",
      "Valid Number\n",
      "Not a number\n"
     ]
    }
   ],
   "source": [
    "def check_number(n):\n",
    "    if isinstance(n,(int,float,complex)):\n",
    "        return 'Valid Number'\n",
    "    return 'Not a number'\n",
    "\n",
    "print(check_number(10))\n",
    "print(check_number(5.5))\n",
    "print(check_number('hello'))"
   ]
  },
  {
   "cell_type": "code",
   "execution_count": 72,
   "metadata": {},
   "outputs": [
    {
     "name": "stdout",
     "output_type": "stream",
     "text": [
      "True\n",
      "True\n"
     ]
    }
   ],
   "source": [
    "class Person:\n",
    "    def __init__(self,name):\n",
    "        self.name = name\n",
    "\n",
    "p = Person('Alice')\n",
    "\n",
    "print(isinstance(p,Person))\n",
    "print(isinstance(p,object))"
   ]
  },
  {
   "cell_type": "code",
   "execution_count": null,
   "metadata": {},
   "outputs": [],
   "source": [
    "try:\n",
    "    x = int('hello')\n",
    "except Exception as e:\n",
    "    if isinstance(e,ValueError):\n",
    "        print('Invalid number Format')\n",
    "    else:\n",
    "        print('Something went Wrong!')"
   ]
  },
  {
   "cell_type": "code",
   "execution_count": 75,
   "metadata": {},
   "outputs": [
    {
     "name": "stdout",
     "output_type": "stream",
     "text": [
      "True\n",
      "False\n"
     ]
    }
   ],
   "source": [
    "from _collections_abc import Iterable\n",
    "\n",
    "print(isinstance([1,2,3],Iterable))\n",
    "print(isinstance(100,Iterable))"
   ]
  },
  {
   "cell_type": "code",
   "execution_count": null,
   "metadata": {},
   "outputs": [
    {
     "name": "stdout",
     "output_type": "stream",
     "text": [
      "1\n"
     ]
    }
   ],
   "source": [
    "class Car:\n",
    "    def __init__(self,brand):\n",
    "        self.brand = brand\n",
    "\n",
    "car = Car('Toyota')\n",
    "\n",
    "if isinstance(car,Car) and hasattr(car,'brand'):\n",
    "    print(car.brand)"
   ]
  },
  {
   "cell_type": "code",
   "execution_count": 78,
   "metadata": {},
   "outputs": [
    {
     "name": "stdout",
     "output_type": "stream",
     "text": [
      "apple\n",
      "banana\n",
      "cherry\n"
     ]
    }
   ],
   "source": [
    "fruits = ['apple','banana','cherry']\n",
    "\n",
    "for fruits in fruits:\n",
    "    print(fruits)"
   ]
  },
  {
   "cell_type": "code",
   "execution_count": 79,
   "metadata": {},
   "outputs": [
    {
     "name": "stdout",
     "output_type": "stream",
     "text": [
      "0\n",
      "1\n",
      "2\n",
      "3\n",
      "4\n"
     ]
    }
   ],
   "source": [
    "for i in range(5):\n",
    "    print(i)"
   ]
  },
  {
   "cell_type": "code",
   "execution_count": 80,
   "metadata": {},
   "outputs": [
    {
     "name": "stdout",
     "output_type": "stream",
     "text": [
      "1\n",
      "3\n",
      "5\n",
      "7\n",
      "9\n"
     ]
    }
   ],
   "source": [
    "for i in range(1,10,2):\n",
    "    print(i)"
   ]
  },
  {
   "cell_type": "code",
   "execution_count": 81,
   "metadata": {},
   "outputs": [
    {
     "name": "stdout",
     "output_type": "stream",
     "text": [
      "P\n",
      "y\n",
      "t\n",
      "h\n",
      "o\n",
      "n\n"
     ]
    }
   ],
   "source": [
    "word = 'Python'\n",
    "\n",
    "for letter in word:\n",
    "    print(letter)"
   ]
  }
 ],
 "metadata": {
  "kernelspec": {
   "display_name": "Python 3",
   "language": "python",
   "name": "python3"
  },
  "language_info": {
   "codemirror_mode": {
    "name": "ipython",
    "version": 3
   },
   "file_extension": ".py",
   "mimetype": "text/x-python",
   "name": "python",
   "nbconvert_exporter": "python",
   "pygments_lexer": "ipython3",
   "version": "3.12.3"
  }
 },
 "nbformat": 4,
 "nbformat_minor": 2
}
