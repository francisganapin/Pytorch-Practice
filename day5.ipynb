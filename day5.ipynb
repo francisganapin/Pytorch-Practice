{
 "cells": [
  {
   "cell_type": "code",
   "execution_count": 26,
   "metadata": {},
   "outputs": [
    {
     "name": "stdout",
     "output_type": "stream",
     "text": [
      "Coding\n"
     ]
    }
   ],
   "source": [
    "longest_word = \"I love programming in Python\"\n",
    "longest_word = \"Coding is fun, isn't it?\"\n",
    "words = longest_word.split()\n",
    "\n",
    "res = ''\n",
    "\n",
    "for words in words:\n",
    "    if len(words) > len(res):\n",
    "        res = words\n",
    "print(res)"
   ]
  },
  {
   "cell_type": "code",
   "execution_count": 27,
   "metadata": {},
   "outputs": [
    {
     "name": "stdout",
     "output_type": "stream",
     "text": [
      "Yes\n"
     ]
    }
   ],
   "source": [
    "from collections import Counter\n",
    "\n",
    "anagram1 = [\n",
    "            'listen',\n",
    "             \"Silent\"\n",
    "            ]\n",
    "\n",
    "if len(anagram1[0]) != len(anagram1[1]):\n",
    "    print('NO')\n",
    "else:\n",
    "    if Counter(anagram1[0]) == Counter(anagram1[0]):  # compare character counts\n",
    "        print(\"Yes\")\n",
    "    else:\n",
    "        print(\"No\")"
   ]
  },
  {
   "cell_type": "code",
   "execution_count": 28,
   "metadata": {},
   "outputs": [
    {
     "name": "stdout",
     "output_type": "stream",
     "text": [
      "Hello From Parent\n"
     ]
    }
   ],
   "source": [
    "class Parents:\n",
    "    def greet(self):\n",
    "        print('Hello From Parent')\n",
    "\n",
    "class Child(Parents):\n",
    "    pass\n",
    "\n",
    "c = Child()\n",
    "c.greet()"
   ]
  },
  {
   "cell_type": "code",
   "execution_count": 29,
   "metadata": {},
   "outputs": [
    {
     "data": {
      "text/plain": [
       "<bound method Dog.bark of <__main__.Dog object at 0x000001B1A6F0F9E0>>"
      ]
     },
     "execution_count": 29,
     "metadata": {},
     "output_type": "execute_result"
    }
   ],
   "source": [
    "class Animal:\n",
    "    def sound(self):\n",
    "        print('Animals make sounds')\n",
    "\n",
    "class Dog(Animal):\n",
    "    def bark(self):\n",
    "        print('Woof Woof')\n",
    "\n",
    "d = Dog()\n",
    "d.sound\n",
    "d.bark"
   ]
  },
  {
   "cell_type": "code",
   "execution_count": 30,
   "metadata": {},
   "outputs": [],
   "source": [
    "import numpy as np"
   ]
  },
  {
   "cell_type": "code",
   "execution_count": 31,
   "metadata": {},
   "outputs": [],
   "source": [
    "data = np.ones((5,5)) # filled with ones"
   ]
  },
  {
   "cell_type": "code",
   "execution_count": 32,
   "metadata": {},
   "outputs": [
    {
     "name": "stdout",
     "output_type": "stream",
     "text": [
      "[[1. 1. 1. 1. 1.]\n",
      " [1. 0. 0. 0. 1.]\n",
      " [1. 0. 0. 0. 1.]\n",
      " [1. 0. 0. 0. 1.]\n",
      " [1. 1. 1. 1. 1.]]\n",
      "[[7. 1. 1. 1. 1.]\n",
      " [1. 7. 0. 0. 1.]\n",
      " [1. 0. 7. 0. 1.]\n",
      " [1. 0. 0. 7. 1.]\n",
      " [1. 1. 1. 1. 7.]]\n",
      "49.0\n"
     ]
    }
   ],
   "source": [
    "data = np.ones((5,5)) # filled with ones\n",
    "data[1:-1, 1:-1] = 0\n",
    "print(data)\n",
    "np.fill_diagonal(data,7)\n",
    "print(data)\n",
    "data_2 = sum(data)\n",
    "result = sum(data_2)\n",
    "print(result)\n"
   ]
  },
  {
   "cell_type": "code",
   "execution_count": 33,
   "metadata": {},
   "outputs": [
    {
     "name": "stdout",
     "output_type": "stream",
     "text": [
      "Matrix with border as 1s and inner elements as 0s:\n",
      "[[1. 1. 1. 1. 1.]\n",
      " [1. 0. 0. 0. 1.]\n",
      " [1. 0. 0. 0. 1.]\n",
      " [1. 0. 0. 0. 1.]\n",
      " [1. 1. 1. 1. 1.]]\n",
      "Matrix after replacing diagonal elements with 7:\n",
      "[[7. 1. 1. 1. 1.]\n",
      " [1. 7. 0. 0. 1.]\n",
      " [1. 0. 7. 0. 1.]\n",
      " [1. 0. 0. 7. 1.]\n",
      " [1. 1. 1. 1. 7.]]\n",
      "Sum of all elements in the matrix: 49.0\n"
     ]
    }
   ],
   "source": [
    "import numpy as np\n",
    "\n",
    "# Step 1: Create a 5x5 matrix filled with ones\n",
    "data = np.ones((5, 5))\n",
    "\n",
    "# Step 2: Set the internal elements to 0\n",
    "data[1:-1, 1:-1] = 0\n",
    "print(\"Matrix with border as 1s and inner elements as 0s:\")\n",
    "print(data)\n",
    "\n",
    "# Step 3: Replace the diagonal elements with 7\n",
    "np.fill_diagonal(data, 7)\n",
    "print(\"Matrix after replacing diagonal elements with 7:\")\n",
    "print(data)\n",
    "\n",
    "# Step 4: Calculate the sum of all elements\n",
    "result = np.sum(data)\n",
    "print(\"Sum of all elements in the matrix:\", result)\n"
   ]
  },
  {
   "cell_type": "code",
   "execution_count": 34,
   "metadata": {},
   "outputs": [
    {
     "name": "stdout",
     "output_type": "stream",
     "text": [
      "[[87 98 46 87 20 72 12 24 18 81 45 14 57 87 55 78 83 85 16 35 59 75 57 53\n",
      "  71 56 19 30 64 20 10 39 57 60 66 96 51 15 21 78 52 70 71 10 21 61 52 55\n",
      "  24 67]]\n"
     ]
    }
   ],
   "source": [
    "import numpy as np\n",
    "data = np.random.randint(10,100,(1,50))\n",
    "print(data)"
   ]
  },
  {
   "cell_type": "code",
   "execution_count": 35,
   "metadata": {},
   "outputs": [
    {
     "name": "stdout",
     "output_type": "stream",
     "text": [
      "[[30 44 10 36 96 32 32 69 72 37 37 84 54 59 30 72 65 79 51 67 66 42 70 16\n",
      "  31 18 94 63 11 68 14 70 13 14 95 95 16 89 31 31 68 57 33 32 52 34 48 69\n",
      "  30 64]]\n",
      "[[30 44 10 36 96 32 32 69 72 37]\n",
      " [37 84 54 59 30 72 65 79 51 67]\n",
      " [66 42 70 16 31 18 94 63 11 68]\n",
      " [14 70 13 14 95 95 16 89 31 31]\n",
      " [68 57 33 32 52 34 48 69 30 64]]\n",
      "96\n",
      "96\n",
      "96\n",
      "96\n",
      "96\n"
     ]
    }
   ],
   "source": [
    "import numpy as np\n",
    "data = np.random.randint(10,100,(1,50))\n",
    "print(data)\n",
    "\n",
    "new_data = data.reshape(5,10)\n",
    "print(new_data)\n",
    "\n",
    "count = [0,0,0,0,0,]\n",
    "\n",
    "for x in range(5):\n",
    "    x = 0\n",
    "\n",
    "    print(max(new_data[x])) # this is wrong answere "
   ]
  },
  {
   "cell_type": "code",
   "execution_count": 36,
   "metadata": {},
   "outputs": [
    {
     "name": "stdout",
     "output_type": "stream",
     "text": [
      "Original Data:\n",
      " [[91 37 12 82 66 46 65 21 30 68 20 89 25 84 95 95 61 63 25 33 81 64 44 68\n",
      "  77 11 46 30 87 32 58 72 34 10 19 25 65 98 39 21 37 89 36 16 33 71 51 81\n",
      "  26 93]]\n",
      "\n",
      "Reshaped Data (5x10):\n",
      " [[91 37 12 82 66 46 65 21 30 68]\n",
      " [20 89 25 84 95 95 61 63 25 33]\n",
      " [81 64 44 68 77 11 46 30 87 32]\n",
      " [58 72 34 10 19 25 65 98 39 21]\n",
      " [37 89 36 16 33 71 51 81 26 93]]\n",
      "Max of row 0: 91\n",
      "Max of row 1: 95\n",
      "Max of row 2: 87\n",
      "Max of row 3: 98\n",
      "Max of row 4: 93\n"
     ]
    }
   ],
   "source": [
    "import numpy as np\n",
    "\n",
    "# Generate a (1,50) array with random integers between 10 and 100\n",
    "data = np.random.randint(10, 100, (1, 50))\n",
    "print(\"Original Data:\\n\", data)\n",
    "\n",
    "# Reshape to (5,10)\n",
    "new_data = data.reshape(5, 10)\n",
    "print(\"\\nReshaped Data (5x10):\\n\", new_data)\n",
    "\n",
    "# Create a list to store the max values (optional)\n",
    "max_values = []\n",
    "\n",
    "# Iterate through each row and print the maximum value\n",
    "for x in range(5):\n",
    "    max_value = max(new_data[x])  # Find max in row x\n",
    "    max_values.append(max_value)  # Store in list (optional)\n",
    "    print(f\"Max of row {x}: {max_value}\")"
   ]
  },
  {
   "cell_type": "markdown",
   "metadata": {},
   "source": [
    "Sure thing, here's another engaging NumPy challenge for you to try:\n",
    "\n",
    "Problem: Manipulating Arrays and Mathematical Operations\n",
    "\n",
    "Create a 6x6 matrix of random integers between 0 and 50.\n",
    "\n",
    "Replace all values in the last row with their squared values.\n",
    "\n",
    "Sort the matrix column-wise (i.e., each column should be sorted in ascending order).\n",
    "\n",
    "Create a new array that contains only the unique values from the matrix and display them in ascending order.\n",
    "\n",
    "Find the index of the maximum value in the entire matrix.\n",
    "\n",
    "Take a shot at solving this, and let me know how it goes! 😊"
   ]
  },
  {
   "cell_type": "code",
   "execution_count": 132,
   "metadata": {},
   "outputs": [
    {
     "name": "stdout",
     "output_type": "stream",
     "text": [
      "this is the matrix we have[[12 32 13 11  1 22]\n",
      " [42 17 27 22  1  6]\n",
      " [49  4 41 20  3 17]\n",
      " [39 49 18 11 15 17]\n",
      " [11 29 34  7 27  0]\n",
      " [18 23 39  0 24 22]]\n",
      " this is the squared value last part [[ 324  529 1521    0  576  484]]\n",
      "this is the sorted data[[   1   11   12   13   22   32]\n",
      " [   1    6   17   22   27   42]\n",
      " [   3    4   17   20   41   49]\n",
      " [  11   15   17   18   39   49]\n",
      " [   0    7   11   27   29   34]\n",
      " [   0  324  484  529  576 1521]]\n",
      "this is unique value[   0    1    3    4    6    7   11   12   13   15   17   18   20   22\n",
      "   27   29   32   34   39   41   42   49  324  484  529  576 1521]\n",
      "this is the max value:  1521\n"
     ]
    }
   ],
   "source": [
    "import numpy as np\n",
    "\n",
    "#create a 6x6 matrix of random interger between 0 and 50\n",
    "data = np.random.randint(0,50,(6,6))\n",
    "print(f'this is the matrix we have{data}')\n",
    "\n",
    "# replace all values in the lasw row with quared  value\n",
    "squared_data = data[5:] = data[5:] * data[5:]\n",
    "\n",
    "print(f' this is the squared value last part {squared_data}')\n",
    "\n",
    "# sort the data \n",
    "data_sorted = np.sort(data, axis=1)\n",
    "print(f'this is the sorted data{data_sorted}')\n",
    "\n",
    "#check unique value\n",
    "unique_value = np.unique(data_sorted)\n",
    "print(f'this is unique value{unique_value}')\n",
    "#this will show the max of in value\n",
    "max_value = max(unique_value)\n",
    "print(f'this is the max value:  {max_value}')"
   ]
  },
  {
   "cell_type": "code",
   "execution_count": 143,
   "metadata": {},
   "outputs": [
    {
     "name": "stdout",
     "output_type": "stream",
     "text": [
      "[[6.94184802e-01 9.54031056e-02 9.04798017e-01 1.84960027e-01\n",
      "  7.87756944e-01 2.47220686e-02 8.48761628e-01 4.70947390e-01\n",
      "  4.67342761e-01 7.56146774e-01]\n",
      " [8.09207295e-01 7.87767351e-01 4.86489204e-02 8.08512674e-01\n",
      "  9.37639062e-02 7.86078268e-01 1.25118363e-01 1.07847801e-04\n",
      "  3.90138975e-01 5.15910271e-01]\n",
      " [1.97011372e-01 8.61393892e-01 9.76988767e-01 2.71975217e-01\n",
      "  3.00611016e-01 4.18052655e-01 6.73455287e-01 3.70673189e-02\n",
      "  8.50088495e-01 7.68764958e-01]\n",
      " [4.57742667e-01 8.86742287e-01 5.20015499e-01 1.32991987e-01\n",
      "  1.08603247e-01 4.08042433e-01 1.04774783e-01 9.56171035e-02\n",
      "  7.64518991e-01 8.00011829e-01]\n",
      " [5.37480783e-01 2.78350769e-01 7.20842730e-01 6.42452278e-01\n",
      "  1.93296570e-01 7.56058052e-01 8.30558574e-01 8.16995201e-01\n",
      "  1.90468750e-01 7.68809810e-01]\n",
      " [5.78682411e-01 4.84672974e-01 8.63486945e-01 7.42726272e-01\n",
      "  8.91666578e-01 4.67624949e-01 9.70092227e-01 9.91449910e-01\n",
      "  5.69616683e-01 3.37656181e-01]\n",
      " [6.15713129e-01 8.17478699e-01 4.51494778e-01 5.82381243e-01\n",
      "  8.22832104e-01 5.99527868e-01 7.67887253e-02 9.49828857e-01\n",
      "  8.12585443e-01 8.84748792e-01]\n",
      " [6.05126298e-01 2.26456694e-01 8.38139912e-01 1.55264755e-01\n",
      "  1.45060980e-01 3.96295199e-01 1.17285605e-01 8.73165320e-01\n",
      "  5.47785819e-01 7.20797632e-01]\n",
      " [9.37199431e-02 7.66067583e-01 9.92578448e-01 3.67731020e-01\n",
      "  4.96098533e-01 4.38059946e-01 4.11255778e-01 7.70025443e-01\n",
      "  8.49616164e-01 5.90005748e-01]\n",
      " [2.46257360e-01 5.87485794e-01 6.72702713e-01 4.86175345e-01\n",
      "  7.66346882e-01 9.12099551e-01 1.24846045e-01 8.30242719e-01\n",
      "  3.92390814e-01 4.47834704e-01]]\n"
     ]
    }
   ],
   "source": [
    "import numpy as np\n",
    "\n",
    "data = np.random.uniform(0.0, 1.0, size=(10, 10))  # 2x3 array with floats between 0.0 and 1.0\n",
    "print(data)"
   ]
  },
  {
   "cell_type": "markdown",
   "metadata": {},
   "source": [
    "Absolutely! Here's a fresh NumPy challenge for you:\n",
    "\n",
    "**Problem: Matrix Transformation and Indexing**\n",
    "\n",
    "1. Create a 10x10 matrix of random floating-point numbers between 0 and 1.\n",
    "2. Extract:\n",
    "   - All elements greater than 0.5.\n",
    "   - The elements in the 3rd row and 5th column.\n",
    "3. Replace all elements less than 0.2 with `0`.\n",
    "4. Find the row with the maximum sum and return its index.\n",
    "\n",
    "Let's see how you solve this one. Share your code when you're done or let me know if you need hints! 😊"
   ]
  },
  {
   "cell_type": "code",
   "execution_count": 156,
   "metadata": {},
   "outputs": [
    {
     "name": "stdout",
     "output_type": "stream",
     "text": [
      "[[0.87481006 0.06828685 0.82416369 0.64806756 0.69427341 0.42314262\n",
      "  0.12361287 0.19149137 0.78675545 0.66285326]\n",
      " [0.07318207 0.77673618 0.76669361 0.88121778 0.05431302 0.28733987\n",
      "  0.50714292 0.97131315 0.55650759 0.89460775]\n",
      " [0.88096867 0.22973775 0.8770681  0.50633887 0.36404549 0.14863142\n",
      "  0.15821672 0.05547817 0.90543384 0.34093529]\n",
      " [0.50203851 0.69148889 0.09661522 0.6961468  0.22034395 0.30173936\n",
      "  0.17837256 0.80453928 0.97487759 0.3326935 ]\n",
      " [0.3518921  0.24280332 0.37678235 0.80639596 0.57417163 0.15276437\n",
      "  0.38387331 0.64151015 0.50968051 0.7759825 ]\n",
      " [0.73342496 0.63074277 0.82802977 0.15633796 0.65088098 0.45969612\n",
      "  0.90497486 0.20079442 0.74158422 0.778201  ]\n",
      " [0.17234071 0.1083806  0.50798918 0.88745471 0.94293708 0.11868595\n",
      "  0.51975912 0.44089253 0.5302077  0.8894313 ]\n",
      " [0.3149725  0.20340616 0.42627645 0.30429958 0.54793395 0.17274194\n",
      "  0.8097479  0.22298425 0.69569213 0.35714753]\n",
      " [0.36720258 0.57678511 0.06718354 0.52535003 0.96153046 0.68165266\n",
      "  0.63884577 0.96176123 0.10197592 0.70896723]\n",
      " [0.11530031 0.4269606  0.35674303 0.40241559 0.63961027 0.80321214\n",
      "  0.49086119 0.70751582 0.50054958 0.72773504]]\n",
      "We get all more than 0.5 [0.874810064183124, 0.8241636915650596, 0.6480675634628977, 0.694273414935166, 0.7867554537778798, 0.6628532617370264, 0.7767361820067966, 0.7666936063609732, 0.8812177809884331, 0.5071429216276114, 0.9713131491477413, 0.5565075939738694, 0.8946077497633617, 0.880968670165892, 0.877068099186111, 0.5063388709687688, 0.9054338378953833, 0.5020385134803373, 0.6914888885591668, 0.696146797798438, 0.8045392843263508, 0.9748775916332558, 0.8063959633916303, 0.5741716314869867, 0.6415101453448073, 0.5096805105560489, 0.7759825028313309, 0.7334249562847996, 0.6307427713151286, 0.8280297666756969, 0.6508809809342462, 0.9049748623419017, 0.7415842206036647, 0.7782009962192805, 0.5079891842813069, 0.8874547134960048, 0.9429370798899432, 0.5197591209974127, 0.5302076983677958, 0.8894312971382778, 0.5479339506155252, 0.8097479010793325, 0.6956921326649788, 0.5767851107933127, 0.5253500302623775, 0.9615304632021184, 0.6816526586501743, 0.6388457712126064, 0.9617612260082098, 0.7089672329680458, 0.6396102666339937, 0.8032121430665337, 0.7075158158767264, 0.5005495797094183, 0.7277350441152672]\n",
      "get the data 3 and 5 row[array([1.23286077, 0.47254106, 1.25385045, 1.31273483, 0.93821713,\n",
      "       0.30139579, 0.54209004, 0.69698832, 1.41511435, 1.11691779])]\n",
      "replace it with  zero: [0.874810064183124, 0, 0.8241636915650596, 0.6480675634628977, 0.694273414935166, 0.4231426244824854, 0, 0, 0.7867554537778798, 0.6628532617370264, 0, 0.7767361820067966, 0.7666936063609732, 0.8812177809884331, 0, 0.2873398698496661, 0.5071429216276114, 0.9713131491477413, 0.5565075939738694, 0.8946077497633617, 0.880968670165892, 0.22973774501847188, 0.877068099186111, 0.5063388709687688, 0.3640454948632471, 0, 0, 0, 0.9054338378953833, 0.3409352917263434, 0.5020385134803373, 0.6914888885591668, 0, 0.696146797798438, 0.22034394762284037, 0.3017393633019152, 0, 0.8045392843263508, 0.9748775916332558, 0.33269350114085106, 0.3518920955931619, 0.24280331519581466, 0.37678234856154547, 0.8063959633916303, 0.5741716314869867, 0, 0.38387331459622154, 0.6415101453448073, 0.5096805105560489, 0.7759825028313309, 0.7334249562847996, 0.6307427713151286, 0.8280297666756969, 0, 0.6508809809342462, 0.4596961171238857, 0.9049748623419017, 0.2007944220549871, 0.7415842206036647, 0.7782009962192805, 0, 0, 0.5079891842813069, 0.8874547134960048, 0.9429370798899432, 0, 0.5197591209974127, 0.44089253225055325, 0.5302076983677958, 0.8894312971382778, 0.3149724968271438, 0.20340615509897775, 0.42627644680538457, 0.30429958077411967, 0.5479339506155252, 0, 0.8097479010793325, 0.22298425270476785, 0.6956921326649788, 0.35714753420810363, 0.3672025830287321, 0.5767851107933127, 0, 0.5253500302623775, 0.9615304632021184, 0.6816526586501743, 0.6388457712126064, 0.9617612260082098, 0, 0.7089672329680458, 0, 0.4269606036550865, 0.3567430311902946, 0.40241558881514183, 0.6396102666339937, 0.8032121430665337, 0.49086119050373755, 0.7075158158767264, 0.5005495797094183, 0.7277350441152672]\n",
      "get the max number in array 0.9748775916332558\n"
     ]
    }
   ],
   "source": [
    "import numpy as np\n",
    "\n",
    "data = np.random.uniform(0.0, 1.0, size=(10, 10))  # 2x3 array with floats between 0.0 and 1.0\n",
    "print(data)\n",
    "\n",
    "#extract  more than 5\n",
    "data2 = [x for x in data.flatten() if x > 0.5]\n",
    "print(f'We get all more than 0.5 {data2}')\n",
    "\n",
    "#extract only 3 row and 5 row\n",
    "data3 = [data[2] + data[4]]\n",
    "print(f'get the data 3 and 5 row{data3}')\n",
    "\n",
    "\n",
    "data4 = [0 if x < 0.2 else x for x in data.flatten()] \n",
    "print(f'replace it with  zero: {data4}')\n",
    "\n",
    "#get the maxx number \n",
    "data5 = np.max(data)\n",
    "print(f'get the max number in array {data5}')"
   ]
  },
  {
   "cell_type": "markdown",
   "metadata": {},
   "source": [
    "You're doing a great job tackling the problem! Let me point out a few issues and offer improvements to make your code work as intended:\n",
    "\n",
    "### Observations and Fixes:\n",
    "1. **Extracting all elements greater than 0.5**:\n",
    "   - Your approach is correct, but using `numpy` operations instead of list comprehension makes the code more concise.\n",
    "   ```python\n",
    "   data2 = data[data > 0.5]  # This directly extracts elements > 0.5\n",
    "   print(f'We get all more than 0.5: {data2}')\n",
    "   ```\n",
    "\n",
    "2. **Extracting the 3rd and 5th rows**:\n",
    "   - The way you add the rows `[data[2] + data[4]]` doesn't produce a clean result. If you want to display them individually:\n",
    "   ```python\n",
    "   row_3 = data[2]  # 3rd row (index 2)\n",
    "   row_5 = data[4]  # 5th row (index 4)\n",
    "   print(f'3rd row: {row_3}')\n",
    "   print(f'5th row: {row_5}')\n",
    "   ```\n",
    "\n",
    "3. **Replacing elements less than 0.2 with zero**:\n",
    "   - You're flattening the array, but it's better to modify the original array in-place using `numpy`:\n",
    "   ```python\n",
    "   data[data < 0.2] = 0\n",
    "   print(f'Data after replacing elements < 0.2 with zero:\\n{data}')\n",
    "   ```\n",
    "\n",
    "4. **Finding the maximum value**:\n",
    "   - Your approach `np.max(data)` is correct, and there’s nothing to fix here. Good work!\n",
    "\n",
    "### Complete and Enhanced Code:\n",
    "Here’s the full solution with improvements:\n",
    "```python\n",
    "import numpy as np\n",
    "\n",
    "# Step 1: Create a 10x10 matrix with random floats between 0.0 and 1.0\n",
    "data = np.random.uniform(0.0, 1.0, size=(10, 10))\n",
    "print(\"Original Matrix:\\n\", data)\n",
    "\n",
    "# Step 2: Extract all elements greater than 0.5\n",
    "data2 = data[data > 0.5]\n",
    "print(f\"\\nAll elements > 0.5:\\n{data2}\")\n",
    "\n",
    "# Step 3: Extract the 3rd and 5th rows\n",
    "row_3 = data[2]  # 3rd row\n",
    "row_5 = data[4]  # 5th row\n",
    "print(f\"\\n3rd row: {row_3}\")\n",
    "print(f\"5th row: {row_5}\")\n",
    "\n",
    "# Step 4: Replace all elements less than 0.2 with 0\n",
    "data[data < 0.2] = 0\n",
    "print(\"\\nMatrix after replacing elements < 0.2 with 0:\\n\", data)\n",
    "\n",
    "# Step 5: Find the row with the maximum sum\n",
    "row_sums = np.sum(data, axis=1)\n",
    "max_row_index = np.argmax(row_sums)\n",
    "print(f\"\\nIndex of the row with the maximum sum: {max_row_index}\")\n",
    "```\n",
    "\n",
    "### Key Insights:\n",
    "1. Using `numpy` operations (`data > 0.5` or `data < 0.2`) is more efficient and readable than list comprehensions.\n",
    "2. It's better to handle rows individually with indexing (`data[2]`, `data[4]`) for clarity.\n",
    "3. Modifying arrays in-place with NumPy helps maintain the structure and avoids unnecessary flattening or reshaping.\n",
    "\n",
    "Give this refined version a shot! 😊 Would you like a new problem to try out?"
   ]
  }
 ],
 "metadata": {
  "kernelspec": {
   "display_name": "Python 3",
   "language": "python",
   "name": "python3"
  },
  "language_info": {
   "codemirror_mode": {
    "name": "ipython",
    "version": 3
   },
   "file_extension": ".py",
   "mimetype": "text/x-python",
   "name": "python",
   "nbconvert_exporter": "python",
   "pygments_lexer": "ipython3",
   "version": "3.12.3"
  }
 },
 "nbformat": 4,
 "nbformat_minor": 2
}
